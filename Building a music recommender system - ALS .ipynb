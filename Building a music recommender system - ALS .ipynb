{
 "cells": [
  {
   "cell_type": "markdown",
   "metadata": {
    "collapsed": true
   },
   "source": [
    "2017 edition"
   ]
  },
  {
   "cell_type": "markdown",
   "metadata": {},
   "source": [
    "# Building a music recommender system\n",
    "\n",
    "As its name implies, a recommender system is a tool that helps predicting what a user may or may not like among a list of given items. In some sense, you can view this as an alternative to content search, as recommendation engines help users discover products or content that they may not come across otherwise. For example, Facebook suggests friends and pages to users. Youtube recommends videos which users may be interested in. Amazon suggests the products which users may need... Recommendation engines engage users to services, can be seen as a revenue optimization process, and in general help maintaining interest in a service.\n",
    "\n",
    "In this notebook, we study how to build a simple recommender system: we focus on music recommendations, and we use a simple algorithm to predict which items users might like, that is called ALS, alternating least squares.\n",
    "\n",
    "## Goals\n",
    "\n",
    "In this lecture, we expect students to:\n",
    "\n",
    "- Revisit (or learn) recommender algorithms\n",
    "\n",
    "- Understand the idea of Matrix Factorization and the ALS algorithm (serial and parallel versions)\n",
    "\n",
    "- Build a simple model for a real usecase: music recommender system\n",
    "\n",
    "- Understand how to validate the results\n",
    "\n",
    "## Steps\n",
    "\n",
    "We assume students to work outside lab hours on the learning material. These are the steps by which we guide students, during labs, to build a good basis for the end-to-end development of a recommender system:\n",
    "\n",
    "* Inspect the data using Spark SQL, and build some basic, but very valuable knowledge about the information we have at hand\n",
    "* Formally define what is a sensible algorithm to achieve our goal: given the \"history\" of user taste for music, recommend new music to discover. Essentialy, we want to build a statistical model of user preferences such that we can use it to \"predict\" which additional music the user could like\n",
    "* With our formal definition at hand, we will learn different ways to implement such an algorithm. Our goal here is to illustrate what are the difficulties to overcome when implementing a (parallel) algorithm\n",
    "* Finally, we will focus on an existing implementation, available in the Apache Spark MLLib, which we will use out of the box to build a reliable statistical model\n",
    "\n",
    "Now, you may think at this point we will be done!\n",
    "\n",
    "Well, you'd better think twice: one important topic we will cover in all our Notebooks is **how to validate the results we obtain**, and **how to choose good parameters to train models** especially when using an \"opaque\" library for doing the job. As a consequence, we will focus on the statistical validation of our recommender system."
   ]
  },
  {
   "cell_type": "markdown",
   "metadata": {},
   "source": [
    "# 1. Data\n",
    "\n",
    "Understanding data is one of the most important part when designing any machine learning algorithm. In this notebook, we will use a data set published by Audioscrobbler - a music recommendation system for last.fm. Audioscrobbler is also one of the first internet streaming radio sites, founded in 2002. It provided an open API for “scrobbling”, or recording listeners’ plays of artists’ songs. last.fm used this information to build a powerful music recommender engine.\n",
    "\n",
    "## 1.1. Data schema\n",
    "\n",
    "Unlike a rating dataset which contains information about users' preference for products (one star, 3 stars, and so on), the datasets from Audioscrobbler only has information about events: specifically, it keeps track of how many times a user played songs of a given artist and the names of artists. That means it carries less information than a rating: in the literature, this is called explicit vs. implicit ratings.\n",
    "\n",
    "### Reading material\n",
    "\n",
    "- [Implicit Feedback for Inferring User Preference: A Bibliography](http://people.csail.mit.edu/teevan/work/publications/papers/sigir-forum03.pdf)\n",
    "- [Comparing explicit and implicit feedback techniques for web retrieval: TREC-10 interactive track report](http://trec.nist.gov/pubs/trec10/papers/glasgow.pdf)\n",
    "- [Probabilistic Models for Data Combination in Recommender Systems](http://mlg.eng.cam.ac.uk/pub/pdf/WilGha08.pdf)\n",
    "\n",
    "The data we use in this Notebook is available in 3 files (these files are stored in our HDFS layer, in the directory  ```/datasets/lastfm```):\n",
    "\n",
    "- **`user_artist_data.txt`**: It contains about 140,000+ unique users, and 1.6 million unique artists. About 24.2 million users’ plays of artists’ are recorded, along with their count. It has 3 columns separated by spaces: \n",
    "\n",
    "| UserID | ArtistID | PlayCount |\n",
    "|----|----|----|\n",
    "| ...|...|...|\n",
    "\n",
    "\n",
    "- **`artist_data.txt`** : It prodives the names of each artist by their IDs. It has 2 columns separated by tab characters (`\\t`).\n",
    "\n",
    "| ArtistID | Name |\n",
    "|---|---|\n",
    "|...|...|\n",
    "\n",
    "- **`artist_alias.txt`**: Note that when plays are scrobbled, the client application submits the name of the artist being played. This name could be misspelled or nonstandard. For example, \"The Smiths\", \"Smiths, The\", and \"the smiths\" may appear as distinct artist IDs in the data set, even though they are plainly the same. `artist_alias.txt` maps artist IDs that are known misspellings or variants to the canonical ID of that artist. The data in this file has 2 columns separated by tab characters (`\\t`).\n",
    "\n",
    "| MisspelledArtistID | StandardArtistID |\n",
    "|---|---|\n",
    "|...|...|\n",
    "\n"
   ]
  },
  {
   "cell_type": "code",
   "execution_count": 1,
   "metadata": {
    "collapsed": false
   },
   "outputs": [],
   "source": [
    "import os\n",
    "import sys\n",
    "import re\n",
    "import random\n",
    "from pyspark import SparkContext\n",
    "from pyspark.sql import SQLContext\n",
    "from pyspark.sql.types import *\n",
    "from pyspark.sql import Row\n",
    "from pyspark.sql.functions import *\n",
    "\n",
    "%matplotlib inline\n",
    "import matplotlib.pyplot as plt\n",
    "import pandas as pd\n",
    "import numpy as np\n",
    "from time import time\n",
    "\n",
    "sqlContext = SQLContext(sc)\n",
    "base = \"/datasets/lastfm/\""
   ]
  },
  {
   "cell_type": "markdown",
   "metadata": {},
   "source": [
    "## 1.2. Understanding data: simple descriptive statistic\n",
    "\n",
    "In order to choose or design a suitable algorithm for achieving our goals, given the data we have, we should first understand data characteristics. To start, we import the necessary packages to work with regular expressions, Data Frames, and other nice features of our programming environment."
   ]
  },
  {
   "cell_type": "markdown",
   "metadata": {},
   "source": [
    "#### Take a look on raw dataset\n"
   ]
  },
  {
   "cell_type": "code",
   "execution_count": 2,
   "metadata": {
    "collapsed": false
   },
   "outputs": [
    {
     "data": {
      "text/plain": [
       "['1000002 1 55',\n",
       " '1000002 1000006 33',\n",
       " '1000002 1000007 8',\n",
       " '1000002 1000009 144',\n",
       " '1000002 1000010 314']"
      ]
     },
     "execution_count": 2,
     "metadata": {},
     "output_type": "execute_result"
    }
   ],
   "source": [
    "user_artist_data = sc.textFile(base+\"user_artist_data.txt\")\n",
    "user_artist_data.take(5)"
   ]
  },
  {
   "cell_type": "markdown",
   "metadata": {},
   "source": [
    "### Question 1\n",
    "\n",
    "#### Question 1.0 (Non-grading)\n",
    "\n",
    "Using SPARK SQL, load data from `/datasets/lastfm/user_artist_data.txt` and show the first 20 entries (via function `show()`).\n",
    "\n",
    "For this Notebook, from a programming point of view, we are given the schema for the data we use, which is as follows:\n",
    "\n",
    "```\n",
    "userID: long int\n",
    "artistID: long int\n",
    "playCount: int\n",
    "```\n",
    "\n",
    "Each line of the dataset contains the above three fields, separated by a \"white space\"."
   ]
  },
  {
   "cell_type": "code",
   "execution_count": 3,
   "metadata": {
    "collapsed": false
   },
   "outputs": [
    {
     "name": "stdout",
     "output_type": "stream",
     "text": [
      "+-------+--------+---------+\n",
      "| userID|artistID|playCount|\n",
      "+-------+--------+---------+\n",
      "|1000002|       1|       55|\n",
      "|1000002| 1000006|       33|\n",
      "|1000002| 1000007|        8|\n",
      "|1000002| 1000009|      144|\n",
      "|1000002| 1000010|      314|\n",
      "|1000002| 1000013|        8|\n",
      "|1000002| 1000014|       42|\n",
      "|1000002| 1000017|       69|\n",
      "|1000002| 1000024|      329|\n",
      "|1000002| 1000025|        1|\n",
      "|1000002| 1000028|       17|\n",
      "|1000002| 1000031|       47|\n",
      "|1000002| 1000033|       15|\n",
      "|1000002| 1000042|        1|\n",
      "|1000002| 1000045|        1|\n",
      "|1000002| 1000054|        2|\n",
      "|1000002| 1000055|       25|\n",
      "|1000002| 1000056|        4|\n",
      "|1000002| 1000059|        2|\n",
      "|1000002| 1000062|       71|\n",
      "+-------+--------+---------+\n",
      "only showing top 20 rows\n",
      "\n"
     ]
    }
   ],
   "source": [
    "userArtistDataSchema = StructType([ \\\n",
    "    StructField(\"userID\", LongType(), True), \\\n",
    "    StructField(\"artistID\", LongType(), True), \\\n",
    "    StructField(\"playCount\", IntegerType(), True)])\n",
    "\n",
    "userArtistDF = sqlContext.read \\\n",
    "    .format('com.databricks.spark.csv') \\\n",
    "    .options(header='false', delimiter=' ') \\\n",
    "    .load(base + \"user_artist_data.txt\", schema = userArtistDataSchema) \\\n",
    "    .cache()\n",
    "\n",
    "# we can cache an Dataframe to avoid computing it from the beginning everytime it is accessed.\n",
    "userArtistDF.cache()\n",
    "\n",
    "userArtistDF.show()"
   ]
  },
  {
   "cell_type": "markdown",
   "metadata": {},
   "source": [
    "#### Question 1.1: \n",
    "How many distinct users do we have in our data? "
   ]
  },
  {
   "cell_type": "code",
   "execution_count": 4,
   "metadata": {
    "collapsed": false
   },
   "outputs": [
    {
     "name": "stdout",
     "output_type": "stream",
     "text": [
      "Total n. of users:  148111\n"
     ]
    }
   ],
   "source": [
    "uniqueUsers = userArtistDF.select(\"userID\").distinct().count()\n",
    "print(\"Total n. of users: \", uniqueUsers)"
   ]
  },
  {
   "cell_type": "markdown",
   "metadata": {},
   "source": [
    "#### Question 1.2\n",
    "How many distinct artists do we have in our data ?"
   ]
  },
  {
   "cell_type": "code",
   "execution_count": 4,
   "metadata": {
    "collapsed": false
   },
   "outputs": [
    {
     "name": "stdout",
     "output_type": "stream",
     "text": [
      "Total n. of artists:  1631028\n"
     ]
    }
   ],
   "source": [
    "uniqueArtists = userArtistDF.select(\"artistID\").distinct().count()\n",
    "print(\"Total n. of artists: \", uniqueArtists)"
   ]
  },
  {
   "cell_type": "markdown",
   "metadata": {},
   "source": [
    "#### Question 1.3\n",
    "\n",
    "One limitation of Spark MLlib's ALS implementation - which we will use later - is that it requires IDs for users and items to be nonnegative 32-bit integers. This means that IDs larger than Integer.MAX_VALUE, or 2147483647, can't be used. So we need to check whether this data set conforms to the strict requirements of our library.\n",
    "\n",
    "What are the maximum and minimum values of column `userID` ?\n",
    "\n",
    "HINT: Refer to section 4.3 of Laboratory 2."
   ]
  },
  {
   "cell_type": "code",
   "execution_count": 5,
   "metadata": {
    "collapsed": false
   },
   "outputs": [
    {
     "name": "stdout",
     "output_type": "stream",
     "text": [
      "+-----------+-----------+\n",
      "|max(userID)|min(userID)|\n",
      "+-----------+-----------+\n",
      "|    2443548|         90|\n",
      "+-----------+-----------+\n",
      "\n"
     ]
    }
   ],
   "source": [
    "userArtistDF.agg(max('userID'),min('userID')).show()"
   ]
  },
  {
   "cell_type": "markdown",
   "metadata": {},
   "source": [
    "<div style=\"background-color:rgba(249, 67, 6, 0.8); vertical-align: middle; padding:5px 0px 10px 10px;\">\n",
    "    <h3><font color='white'> ANSWER </font></h3>\n",
    "</div>\n",
    "The range of userID is [90,2443548]. It is wider than number of user (148,111 users). That means there are some userIDs which are not contained in this list. It can be users who never listen any artist in our system "
   ]
  },
  {
   "cell_type": "markdown",
   "metadata": {},
   "source": [
    "#### Question 1.4\n",
    "What is the maximum and minimum values of column `artistID` ?"
   ]
  },
  {
   "cell_type": "code",
   "execution_count": 7,
   "metadata": {
    "collapsed": false
   },
   "outputs": [
    {
     "name": "stdout",
     "output_type": "stream",
     "text": [
      "+-------------+-------------+\n",
      "|max(artistID)|min(artistID)|\n",
      "+-------------+-------------+\n",
      "|     10794401|            1|\n",
      "+-------------+-------------+\n",
      "\n"
     ]
    }
   ],
   "source": [
    "userArtistDF.agg(max('artistID'),min('artistID')).show()"
   ]
  },
  {
   "cell_type": "markdown",
   "metadata": {},
   "source": [
    "<div style=\"background-color:rgba(249, 67, 6, 0.8); vertical-align: middle; padding:5px 0px 10px 10px;\">\n",
    "    <h3><font color='white'> ANSWER </font></h3>\n",
    "</div>\n",
    "The range of artistID have the same problem  as userID but numbers of artists who have not been listened are nearly 9 times more than numbers of artists in the list.\n",
    "\n",
    "We discovered that there is a total of 148,111 users in our dataset and a total of 1,631,028 artists in our dataset. The maximum values of userID and artistID are still smaller than the biggest number of integer type. No additional transformation will be necessary to use these IDs."
   ]
  },
  {
   "cell_type": "markdown",
   "metadata": {},
   "source": [
    "One thing we can see here is that SPARK SQL provides very concise and powerful methods for data analytics (compared to using RDD and their low-level API). You can see more examples [here](https://databricks.com/blog/2015/06/02/statistical-and-mathematical-functions-with-dataframes-in-spark.html)."
   ]
  },
  {
   "cell_type": "markdown",
   "metadata": {},
   "source": [
    "Next, we might want to understand better user activity and artist popularity.\n",
    "\n",
    "Here is a list of simple descriptive queries that helps us reaching these purposes:\n",
    "\n",
    "* How many **times each user** has **played a song**? This is a good indicator of who are the **most active users** of our service. Note that a very active user with many play counts does not necessarily mean that the user is also \"curious\"! Indeed, she could have played the same song several times.\n",
    "* How many play **counts for each artist**? This is a good indicator of the **artist popularity**. Since we do not have time information associated to our data, we can only build a, e.g., top-10 ranking of the most popular artists in the dataset. Later in the notebook, we will learn that our dataset has a very \"loose\" definition about artists: very often artist IDs point to song titles as well. This means we have to be careful when establishing popular artists. Indeed, artists whose data is \"well formed\" will have the correct number of play counts associated to them. Instead, artists that appear mixed with song titles may see their play counts \"diluted\" across their songs."
   ]
  },
  {
   "cell_type": "markdown",
   "metadata": {},
   "source": [
    "### Question 2\n",
    "\n",
    "#### Question 2.1\n",
    "How many times each user has played a song? Show 5 samples of the result."
   ]
  },
  {
   "cell_type": "code",
   "execution_count": 5,
   "metadata": {
    "collapsed": false
   },
   "outputs": [
    {
     "data": {
      "text/plain": [
       "[Row(userID=1041783, sum(playCount)=8730),\n",
       " Row(userID=1042771, sum(playCount)=3),\n",
       " Row(userID=1043190, sum(playCount)=8),\n",
       " Row(userID=1043621, sum(playCount)=125),\n",
       " Row(userID=1043703, sum(playCount)=2609)]"
      ]
     },
     "execution_count": 5,
     "metadata": {},
     "output_type": "execute_result"
    }
   ],
   "source": [
    "# Compute user activity\n",
    "# We are interested in how many playcounts each user has scored.\n",
    "userActivity = userArtistDF.groupBy('userID').sum('playCount').collect()\n",
    "userActivity[0:5]"
   ]
  },
  {
   "cell_type": "markdown",
   "metadata": {},
   "source": [
    "#### Question 2.2\n",
    "Plot CDF (or ECDF) of the number of play counts per User ID.\n",
    "\n",
    "Explain and comment the figure you just created: \n",
    "\n",
    "* for example, look at important percentiles (25%, median, 75%, tails such as >90%) and cross check with what you have found above to figure out if the result is plausible.\n",
    "* discuss about your users, with respect to the application domain we target in the notebook: you will notice that for some users, there is very little interaction with the system, which means that maybe reccommending something to them is going to be more difficult than for other users who interact more with the system.\n",
    "* look at outliers and reason about their impact on your reccommender algorithm\n"
   ]
  },
  {
   "cell_type": "code",
   "execution_count": 7,
   "metadata": {
    "collapsed": false,
    "scrolled": true
   },
   "outputs": [
    {
     "name": "stdout",
     "output_type": "stream",
     "text": [
      "[     0      1      2 ..., 148108 148109 148110]\n"
     ]
    },
    {
     "data": {
      "image/png": "[encoded data removed]",
      "text/plain": [
       "<matplotlib.figure.Figure at 0x7f03e9db7cc0>"
      ]
     },
     "metadata": {},
     "output_type": "display_data"
    }
   ],
   "source": [
    "pdf = pd.DataFrame(data=userActivity)\n",
    "Y=np.sort( pdf[1] )\n",
    "yvals=np.arange(len(Y))/float(len(Y))\n",
    "\n",
    "print(np.arange(len(Y)))\n",
    "\n",
    "plt.plot( np.log(Y), yvals )\n",
    "plt.xlabel('log(Play Counts)')\n",
    "plt.ylabel('ECDF')\n",
    "plt.grid(True,which=\"both\",ls=\"-\")\n",
    "plt.title('ECDF of number of play counts per User ID')\n",
    "plt.show()"
   ]
  },
  {
   "cell_type": "code",
   "execution_count": 23,
   "metadata": {
    "collapsed": false
   },
   "outputs": [
    {
     "name": "stdout",
     "output_type": "stream",
     "text": [
      "Number of play count at a point [10%,25%,50%,75%,90%,99.9%] percentile:  [34, 204, 892, 2800, 6484, 10120, 50391]\n"
     ]
    },
    {
     "data": {
      "image/png": "[encoded data removed]",
      "text/plain": [
       "<matplotlib.figure.Figure at 0x7f03d99a4ef0>"
      ]
     },
     "metadata": {},
     "output_type": "display_data"
    }
   ],
   "source": [
    "percentile = [0.1,0.25,0.5,0.75,0.9,0.95,0.999]\n",
    "print(\"Number of play count at a point [10%,25%,50%,75%,90%,99.9%] percentile: \", \\\n",
    "      list(map(lambda x: Y[np.isclose(yvals,x)][0], percentile)))\n",
    "\n",
    "ind = (Y<=6484)\n",
    "plt.plot(Y[ind], yvals[ind] )\n",
    "plt.xlabel('Play Counts')\n",
    "plt.ylabel('ECDF')\n",
    "plt.grid(True,which=\"both\",ls=\"-\")\n",
    "plt.title('ECDF of number of play counts at 90% percentile')\n",
    "plt.show()"
   ]
  },
  {
   "cell_type": "code",
   "execution_count": 8,
   "metadata": {
    "collapsed": false
   },
   "outputs": [
    {
     "data": {
      "text/plain": [
       "<matplotlib.text.Text at 0x7fa22b244710>"
      ]
     },
     "execution_count": 8,
     "metadata": {},
     "output_type": "execute_result"
    },
    {
     "data": {
      "image/png": "[encoded data removed]",
      "text/plain": [
       "<matplotlib.figure.Figure at 0x7fa22b783978>"
      ]
     },
     "metadata": {},
     "output_type": "display_data"
    }
   ],
   "source": [
    "groupPCby10 = Y[(Y<=1000)]\n",
    "label_groupPCby10 = [int(line/100)+1 for line in Y]\n",
    "bins = np.arange(1,12)-0.5\n",
    "plt.hist(label_groupPCby10,bins = bins)\n",
    "plt.xticks(range(1,11),np.arange(1,11)*100)\n",
    "plt.xlim([0, 11])\n",
    "plt.xlabel('Play Count')\n",
    "plt.ylabel('Number of users')\n",
    "plt.title('Number of users with a range of play counts')"
   ]
  },
  {
   "cell_type": "markdown",
   "metadata": {},
   "source": [
    "<div style=\"background-color:rgba(249, 67, 6, 0.8); vertical-align: middle; padding:5px 0px 10px 10px;\">\n",
    "    <h3><font color='white'> ANSWER </font></h3>\n",
    "</div>\n",
    "\n",
    "The distribution of data gives us an overview of data itself and leads us to some important conclusion about the data. In this case, distribution of play counts of users in our system is one of characteristic of users that we can use to group by. We can give assumptions like users can be active user, user that creates an account and never uses it again or user uses a bot to increase views for specific songs. While the average just gives us briefly about whole data set, it does not give any further information about these group of users. The percentiles are more meaningful than the average.\n",
    "\n",
    "We calculate the play counts at different ratios of users. From the result shown above, we can see that 25% people listen to music less than 204 times, 50% people listen to music less than 892 times, 75% people listen to music less than 2800 times, 90% people listen to music less than 6484 times, and most of people(95%) listen to music less than 10120 times.\n",
    "\n",
    "10120 is still much smaller than the maximam 674412(about 67 times of 10120). The distribution of the play counts which is larger than 6484 is sparse and the distribution is compact at the beginning. This indicates that a lot of people hardly interact with the system. Furthermore, you can see number of users that listens less than 100 times in our data is around 25.000, accounting for approxiamately 18% total user.\n"
   ]
  },
  {
   "cell_type": "markdown",
   "metadata": {},
   "source": [
    "#### Question 2.3\n",
    "\n",
    "How many play counts for each artist? Plot CDF or ECDF of the result.\n",
    "\n",
    "Similarly to the previous question, you need to comment and interpret your result: what is the figure telling you?"
   ]
  },
  {
   "cell_type": "code",
   "execution_count": 12,
   "metadata": {
    "collapsed": false
   },
   "outputs": [
    {
     "name": "stdout",
     "output_type": "stream",
     "text": [
      "Row(artistID=1002519, sum(playCount)=405)\n"
     ]
    }
   ],
   "source": [
    "artistPopularity = userArtistDF.groupBy('artistID').sum('playCount').collect()\n",
    "\n",
    "print(artistPopularity[3])\n",
    "\n",
    "pdf1 = pd.DataFrame(data=artistPopularity)"
   ]
  },
  {
   "cell_type": "code",
   "execution_count": 21,
   "metadata": {
    "collapsed": false
   },
   "outputs": [
    {
     "name": "stdout",
     "output_type": "stream",
     "text": [
      "[      1       1       1 ..., 1930592 2259185 2502130]\n"
     ]
    },
    {
     "data": {
      "image/png": "[encoded data removed]",
      "text/plain": [
       "<matplotlib.figure.Figure at 0x7efe34447ef0>"
      ]
     },
     "metadata": {},
     "output_type": "display_data"
    }
   ],
   "source": [
    "# Compute artist popularity\n",
    "# We are interested in how many playcounts per artist\n",
    "Z=np.sort(pdf1[1])\n",
    "print(Z)\n",
    "Zvals=np.arange(len(Z))/float(len(Z))\n",
    "\n",
    "plt.semilogx(Z, Zvals)\n",
    "plt.xlabel('Play Counts')\n",
    "plt.ylabel('ECDF')\n",
    "plt.grid(True,which=\"both\",ls=\"-\")\n",
    "plt.title('ECDF of number of play counts per artist')\n",
    "plt.show()"
   ]
  },
  {
   "cell_type": "code",
   "execution_count": 20,
   "metadata": {
    "collapsed": false
   },
   "outputs": [
    {
     "data": {
      "image/png": "[encoded data removed]",
      "text/plain": [
       "<matplotlib.figure.Figure at 0x7efe343650b8>"
      ]
     },
     "metadata": {},
     "output_type": "display_data"
    }
   ],
   "source": [
    "temp = Z<=20\n",
    "plt.plot(Z[temp], Zvals[temp])\n",
    "plt.xlabel('Play Counts')\n",
    "plt.ylabel('ECDF')\n",
    "plt.grid(True,which=\"both\",ls=\"-\")\n",
    "plt.title('ECDF of number of play counts per artist')\n",
    "plt.show()"
   ]
  },
  {
   "cell_type": "markdown",
   "metadata": {
    "collapsed": true
   },
   "source": [
    "<div style=\"background-color:rgba(249, 67, 6, 0.8); vertical-align: middle; padding:5px 0px 10px 10px;\">\n",
    "    <h3><font color='white'> ANSWER </font></h3>\n",
    "</div>\n",
    "\n",
    "Since the number of artists is too large and a lot of artists are only listerned for few times, we use the log of play counts to represent the ECDF to obtain better visualization.\n",
    "\n",
    "Same as ECDF of number of play counts per user ID, most of the artists has play counts as 1. Only a small amount of artists are very popular.\n",
    "\n",
    "The problem of this outliner is critical than one in userID, it means it is hard to recommend to user artists who are not too famous (less play counts) even those artists play same kind of music that user may like. Instead, users only receive recommendation of top artists, who dominates other artists by play counts. "
   ]
  },
  {
   "cell_type": "markdown",
   "metadata": {},
   "source": [
    "#### Question 2.4\n",
    "Plot a bar chart to show top 5 artists In terms of absolute play counts.\n",
    "\n",
    "Comment the figure you just obtained:\n",
    "\n",
    "* are these reasonable results?\n",
    "* is looking at top-5 artists enough to learn more about your data?\n",
    "* do you see anything strange in the data?"
   ]
  },
  {
   "cell_type": "code",
   "execution_count": 26,
   "metadata": {
    "collapsed": false
   },
   "outputs": [
    {
     "name": "stdout",
     "output_type": "stream",
     "text": [
      "[979, 1000113, 4267, 1000024, 4468] [2502130, 2259185, 1930592, 1542806, 1425942]\n"
     ]
    },
    {
     "data": {
      "image/png": "[encoded data removed]",
      "text/plain": [
       "<matplotlib.figure.Figure at 0x7efe340e2cc0>"
      ]
     },
     "metadata": {},
     "output_type": "display_data"
    }
   ],
   "source": [
    "sortedArtist = sorted(artistPopularity, key = lambda x: -x[1])[:5]\n",
    "\n",
    "artistID = [w[0] for w in sortedArtist]\n",
    "y_pos = range(len(sortedArtist))\n",
    "frequency = [w[1] for w in sortedArtist]\n",
    "print(artistID,frequency)\n",
    "\n",
    "plt.barh(y_pos, frequency[::-1], align='center', alpha=0.4)\n",
    "plt.yticks(y_pos, artistID[::-1])\n",
    "plt.xlabel('Play Count')\n",
    "plt.ylabel('Artist')\n",
    "plt.title('Top-5 Artist ID per play counts')\n",
    "plt.show()"
   ]
  },
  {
   "cell_type": "markdown",
   "metadata": {},
   "source": [
    "<div style=\"background-color:rgba(249, 67, 6, 0.8); vertical-align: middle; padding:5px 0px 10px 10px;\">\n",
    "    <h3><font color='white'> ANSWER </font></h3>\n",
    "</div>\n",
    "\n",
    "The most popular artist has around 2.5 milion play counts that means the average play count per user is about 17 times, which is reasonable number for playcounts.\n",
    "\n",
    "It is not enough to learn about data, you can only know which artist is popular to overal user. There is nothing strange about the data."
   ]
  },
  {
   "cell_type": "markdown",
   "metadata": {},
   "source": [
    "All seem clear right now, but ... wait a second! What about the problems indicated above about artist \"disambiguation\"? Are these artist ID we are using referring to unique artists? How can we make sure that such \"opaque\" identifiers point to different bands? Let's try to use some additional dataset to answer this question:  `artist_data.txt` dataset. This time, the schema of the dataset consists in:\n",
    "\n",
    "```\n",
    "artist ID: long int\n",
    "name: string\n",
    "```\n",
    "\n",
    "We will try to find whether a single artist has two different IDs."
   ]
  },
  {
   "cell_type": "markdown",
   "metadata": {},
   "source": [
    "### Question 3\n",
    "\n",
    "#### Question 3.1\n",
    "Load the data from `/datasets/lastfm/artist_data.txt` and use the SparkSQL API to show 5 samples.\n",
    "\n",
    "HINT: If you encounter some error when parsing lines in data because of invalid entries, parameter `mode='DROPMALFORMED'` will help you to eliminate these entries. The suggested syntax is: `<df>.options(header='false', delimiter='\\t', mode='DROPMALFORMED')`."
   ]
  },
  {
   "cell_type": "code",
   "execution_count": 28,
   "metadata": {
    "collapsed": false
   },
   "outputs": [
    {
     "name": "stdout",
     "output_type": "stream",
     "text": [
      "+--------+--------------------+\n",
      "|artistID|                name|\n",
      "+--------+--------------------+\n",
      "| 1134999|        06Crazy Life|\n",
      "| 6821360|        Pang Nakarin|\n",
      "|10113088|Terfel, Bartoli- ...|\n",
      "|10151459| The Flaming Sidebur|\n",
      "| 6826647|   Bodenstandig 3000|\n",
      "+--------+--------------------+\n",
      "only showing top 5 rows\n",
      "\n"
     ]
    }
   ],
   "source": [
    "customSchemaArtist = StructType([ \\\n",
    "    StructField(\"artistID\", LongType(), True), \\\n",
    "    StructField(\"name\", StringType(), True)])\n",
    "\n",
    "artistDF = sqlContext.read \\\n",
    "    .format('com.databricks.spark.csv') \\\n",
    "    .options(header='false', delimiter='\\t', mode='DROPMALFORMED') \\\n",
    "    .load(\"/datasets/lastfm/artist_data.txt\", schema = customSchemaArtist) \\\n",
    "    .cache()\n",
    "    \n",
    "artistDF.show(5)"
   ]
  },
  {
   "cell_type": "markdown",
   "metadata": {},
   "source": [
    "#### Question 3.2\n",
    "Find 20 artists whose name contains \"Aerosmith\". Take a look at artists that have ID equal to `1000010` and `2082323`. In your opinion, are they pointing to the same artist?\n",
    "\n",
    "HINT: Function `locate(sub_string, string)` can be useful in this case."
   ]
  },
  {
   "cell_type": "code",
   "execution_count": 29,
   "metadata": {
    "collapsed": false
   },
   "outputs": [
    {
     "name": "stdout",
     "output_type": "stream",
     "text": [
      "+--------+--------------------+\n",
      "|artistID|                name|\n",
      "+--------+--------------------+\n",
      "|10586006|Dusty Springfield...|\n",
      "| 6946007|    Aerosmith/RunDMC|\n",
      "|10475683|Aerosmith: Just P...|\n",
      "| 1083031|    Aerosmith/ G n R|\n",
      "| 6872848|Britney, Nsync, N...|\n",
      "|10586963|Green Day - Oasis...|\n",
      "|10028830|The Aerosmith Ant...|\n",
      "|10300357| Run-DMC + Aerosmith|\n",
      "| 2027746|Aerosmith by Musi...|\n",
      "| 1140418|[rap]Run DMC and ...|\n",
      "|10237208| Aerosmith + Run DMC|\n",
      "|10588537|Aerosmith, Kid Ro...|\n",
      "| 9934757|Aerosmith - Big Ones|\n",
      "|10437510|Green Day ft. Oas...|\n",
      "| 6936680| RUN DNC & Aerosmith|\n",
      "|10479781|      Aerosmith Hits|\n",
      "|10114147|Charlies Angels -...|\n",
      "| 1262439|Kid Rock, Run DMC...|\n",
      "| 7032554|Aerosmith & Run-D...|\n",
      "|10033592|          Aerosmith?|\n",
      "+--------+--------------------+\n",
      "only showing top 20 rows\n",
      "\n",
      "+--------+---------+\n",
      "|artistID|     name|\n",
      "+--------+---------+\n",
      "| 1000010|Aerosmith|\n",
      "+--------+---------+\n",
      "\n",
      "+--------+------------+\n",
      "|artistID|        name|\n",
      "+--------+------------+\n",
      "| 2082323|01 Aerosmith|\n",
      "+--------+------------+\n",
      "\n"
     ]
    }
   ],
   "source": [
    "# get artists whose name contains \"Aerosmith\"\n",
    "artistDF[locate(\"Aerosmith\", artistDF.name) > 0].show(20)\n",
    "# show two examples\n",
    "artistDF[artistDF.artistID==1000010].show()\n",
    "artistDF[artistDF.artistID==2082323].show()"
   ]
  },
  {
   "cell_type": "markdown",
   "metadata": {},
   "source": [
    "<div style=\"background-color:rgba(249, 67, 6, 0.8); vertical-align: middle; padding:5px 0px 10px 10px;\">\n",
    "    <h3><font color='white'> ANSWER </font></h3>\n",
    "</div>\n",
    "In our opinion, they are the same. The artist's name don't have official format (EX: Aerosmith/RunDMC,Aerosmith + Run DMC) and some of them also contain extra information."
   ]
  },
  {
   "cell_type": "markdown",
   "metadata": {},
   "source": [
    "To answer this question correctly, we need to use an additional dataset `artist_alias.txt` which contains the ids of mispelled artists and standard artists. The schema of the dataset consists in:\n",
    "\n",
    "```\n",
    "mispelledID ID: long int\n",
    "standard ID: long int\n",
    "```"
   ]
  },
  {
   "cell_type": "markdown",
   "metadata": {},
   "source": [
    "#### Question 3.3\n",
    "Using SparkSQL API, load the dataset from `/datasets/lastfm/artist_alias.txt` then show 5 samples."
   ]
  },
  {
   "cell_type": "code",
   "execution_count": 30,
   "metadata": {
    "collapsed": false
   },
   "outputs": [
    {
     "name": "stdout",
     "output_type": "stream",
     "text": [
      "+------------------+----------------+\n",
      "|MisspelledArtistID|StandardArtistID|\n",
      "+------------------+----------------+\n",
      "|           1092764|         1000311|\n",
      "|           1095122|         1000557|\n",
      "|           6708070|         1007267|\n",
      "|          10088054|         1042317|\n",
      "|           1195917|         1042317|\n",
      "+------------------+----------------+\n",
      "only showing top 5 rows\n",
      "\n"
     ]
    }
   ],
   "source": [
    "customSchemaArtistAlias = StructType([ \\\n",
    "    StructField(\"MisspelledArtistID\", LongType(), True ), \\\n",
    "    StructField(\"StandardArtistID\", LongType(), True )])\n",
    "\n",
    "artistAliasDF = sqlContext.read \\\n",
    "    .format('com.databricks.spark.csv') \\\n",
    "    .options(header='false', delimiter='\\t', mode='DROPMALFORMED') \\\n",
    "    .load(\"/datasets/lastfm/artist_alias.txt\", schema = customSchemaArtistAlias) \\\n",
    "    .cache()\n",
    "\n",
    "artistAliasDF.show(5)\n"
   ]
  },
  {
   "cell_type": "markdown",
   "metadata": {},
   "source": [
    "#### Question 3.4\n",
    "Verify the answer of question 3.2 (\"Are artists that have ID equal to `1000010` and `2082323` the same ?\") by finding the standard ids corresponding to the mispelled ids `1000010` and `2082323` respectively."
   ]
  },
  {
   "cell_type": "code",
   "execution_count": 41,
   "metadata": {
    "collapsed": false
   },
   "outputs": [
    {
     "name": "stdout",
     "output_type": "stream",
     "text": [
      "+------------------+----------------+\n",
      "|MisspelledArtistID|StandardArtistID|\n",
      "+------------------+----------------+\n",
      "+------------------+----------------+\n",
      "\n",
      "+------------------+----------------+\n",
      "|MisspelledArtistID|StandardArtistID|\n",
      "+------------------+----------------+\n",
      "|           2082323|         1000010|\n",
      "+------------------+----------------+\n",
      "\n"
     ]
    }
   ],
   "source": [
    "\n",
    "artistAliasDF[artistAliasDF.MisspelledArtistID  == 1000010 ].show()\n",
    "artistAliasDF[artistAliasDF.MisspelledArtistID  == 2082323 ].show()\n",
    "\n",
    "# 1000010 is a standard id, so it haven't been considered as mispelled id in the dataset"
   ]
  },
  {
   "cell_type": "markdown",
   "metadata": {},
   "source": [
    "<div style=\"background-color:rgba(249, 67, 6, 0.8); vertical-align: middle; padding:5px 0px 10px 10px;\">\n",
    "    <h3><font color='white'> ANSWER </font></h3>\n",
    "</div>\n",
    "As we can find the result, the answer for the previous one is **YES**"
   ]
  },
  {
   "cell_type": "markdown",
   "metadata": {},
   "source": [
    "### Question 4\n",
    "\n",
    "The mispelled or nonstandard information about artist make our results in the previous queries a bit \"sloppy\". To overcome this problem, we can replace all mispelled artist ids by the corresponding standard ids and re-compute the basic descriptive statistics on the \"amended\" data.\n",
    "First, we construct a \"dictionary\" that maps non-standard ids to a standard ones. Then this \"dictionary\" will be used to replace the mispelled artists.\n",
    "\n",
    "#### Question 4.1\n",
    "From data in the dataframe loaded from `/datasets/lastfm/artist_alias.txt`, construct a dictionary that maps each non-standard id to its standard id.\n",
    "\n",
    "HINT: Instead of using function `collect`, we can use `collectAsMap` to convert the collected data to a dictionary inline."
   ]
  },
  {
   "cell_type": "code",
   "execution_count": 35,
   "metadata": {
    "collapsed": false
   },
   "outputs": [
    {
     "name": "stdout",
     "output_type": "stream",
     "text": [
      "The script takes 1.292234 seconds\n"
     ]
    }
   ],
   "source": [
    "from time import time\n",
    "t0 = time()\n",
    "artistAlias = artistAliasDF.rdd.map(lambda row: ( row[0] , row[1])).collectAsMap()\n",
    "t1 = time()\n",
    "print('The script takes %f seconds' %(t1-t0))"
   ]
  },
  {
   "cell_type": "code",
   "execution_count": 32,
   "metadata": {
    "collapsed": false
   },
   "outputs": [
    {
     "name": "stdout",
     "output_type": "stream",
     "text": [
      "The script takes 1.098185 seconds\n"
     ]
    }
   ],
   "source": [
    "from time import time\n",
    "t0 = time()\n",
    "artistAlias = artistAliasDF.rdd.map(lambda row: ( row[0] , row[1])).collect()\n",
    "t1 = time()\n",
    "print('The script takes %f seconds' %(t1-t0))"
   ]
  },
  {
   "cell_type": "markdown",
   "metadata": {},
   "source": [
    "<div style=\"background-color:rgba(249, 67, 6, 0.8); vertical-align: middle; padding:5px 0px 10px 10px;\">\n",
    "    <h3><font color='white'> ANSWER </font></h3>\n",
    "</div>\n",
    "The performance of *collect()* and *collectAsMap()* are not different in this case."
   ]
  },
  {
   "cell_type": "markdown",
   "metadata": {},
   "source": [
    "#### Question 4.2\n",
    "Using the constructed dictionary in question 4.1, replace the non-standard artist ids in the dataframe that was loaded from `/datasets/lastfm/user_artist_data.txt` by the corresponding standard ids then show 5 samples.\n",
    "\n",
    "**NOTE 1**: If an id doesn't exist in the dictionary as a mispelled id, it is really a standard id.\n",
    "\n",
    "\n",
    "Using funtion `map` on Spark Dataframe will give us an RDD. We can convert this RDD back to Dataframe by using `sqlContext.createDataFrame(rdd_name, sql_schema)`\n",
    "\n",
    "\n",
    "**NOTE 2**: be careful! you need to be able to verify that you indeed solved the problem of having bad artist IDs. In principle, for the new data to be correct, we should to have duplicate pairs (user, artist), potentially with different play counts, right? In answering the question, please **show** that you indeed fixed the problem. "
   ]
  },
  {
   "cell_type": "code",
   "execution_count": 36,
   "metadata": {
    "collapsed": false
   },
   "outputs": [
    {
     "name": "stdout",
     "output_type": "stream",
     "text": [
      "+-------+--------+---------+\n",
      "| userID|artistID|playCount|\n",
      "+-------+--------+---------+\n",
      "|1000002|       1|       55|\n",
      "|1000002| 1000006|       33|\n",
      "|1000002| 1000007|        8|\n",
      "|1000002| 1000009|      144|\n",
      "|1000002| 1000010|      314|\n",
      "+-------+--------+---------+\n",
      "only showing top 5 rows\n",
      "\n",
      "The script takes 1.276605 seconds\n"
     ]
    }
   ],
   "source": [
    "from time import time\n",
    "def replaceMispelledIDs(fields):\n",
    "    finalID = artistAlias.get(fields[1], fields[1])\n",
    "    return (fields[0], finalID, fields[2])\n",
    "\n",
    "t0 = time()\n",
    "\n",
    "newUserArtistDF = sqlContext.createDataFrame(\n",
    "    userArtistDF.rdd.map(lambda row: replaceMispelledIDs(row)), \n",
    "    userArtistDataSchema\n",
    ")\n",
    "newUserArtistDF.show(5)\n",
    "\n",
    "t1 = time()\n",
    "\n",
    "print('The script takes %f seconds' %(t1-t0))"
   ]
  },
  {
   "cell_type": "code",
   "execution_count": 45,
   "metadata": {
    "collapsed": false
   },
   "outputs": [
    {
     "name": "stdout",
     "output_type": "stream",
     "text": [
      "BEFORE: 0\n",
      "AFTER: 141922\n"
     ]
    }
   ],
   "source": [
    "duplicate = userArtistDF.groupBy('userID', 'artistID').count().where('count > 1').count()\n",
    "print(\"BEFORE: \" + str(duplicate))\n",
    "duplicate = newUserArtistDF.groupBy('userID', 'artistID').count().where('count > 1').count()\n",
    "print(\"AFTER: \" + str(duplicate))\n",
    "\n",
    "#THIS SHOW THAT OUR METHOD RUN CORRECTLY, THERE IS DUPLICATION IN (USER,ARTIST) THAT MEANS USER LISTEN ON SAME ARTIST MANY TIME"
   ]
  },
  {
   "cell_type": "markdown",
   "metadata": {},
   "source": [
    "<div style=\"background-color:rgba(249, 67, 6, 0.8); vertical-align: middle; padding:5px 0px 10px 10px;\">\n",
    "    <h3><font color='white'> ANSWER </font></h3>\n",
    "</div>\n",
    "*artistAlias.get(Para1,Para2)* if it cannot find *para1* in table it will get *para2* (in case starndard userID)\n",
    "\n",
    "As you can see from the result, each pair (userID,artirstID) doesn't have duplication at the beginning, but there are 141922 duplications after we clean data. That means our method runs correctly.  "
   ]
  },
  {
   "cell_type": "markdown",
   "metadata": {},
   "source": [
    "#### Question 4.3\n",
    "Spark actions are executed through a set of stages, separated by distributed \"shuffle\" operations. Spark can be instructed to **automatically and efficiently** broadcast common data needed by tasks within **each stage**. The data broadcasted this way is cached in **serialized form** and deserialized before running each task. \n",
    "\n",
    "We can thus improve our answer to question 4.2: we can reduce the communication cost by shipping the \"dictionary\" in a more efficient way by using `broadcast variable`. Broadcast variables allow the programmer to keep a read-only variable cached on **each machine** rather than shipping a copy of it with tasks. They are cached in deserialized form. They can be used, for example, to give every node a copy of a large input dataset in an efficient manner. \n",
    "\n",
    "The broadcast of variable `v` can be created by `bV = sc.broadcast(v)`. Then value of this broadcast variable can be access via `bV.value`\n",
    "\n",
    "To question is then: using a broadcast variable, modify the script in question 4.2 to get better performance in terms of running time.\n"
   ]
  },
  {
   "cell_type": "code",
   "execution_count": 35,
   "metadata": {
    "collapsed": false
   },
   "outputs": [
    {
     "name": "stdout",
     "output_type": "stream",
     "text": [
      "+-------+--------+---------+\n",
      "| userID|artistID|playCount|\n",
      "+-------+--------+---------+\n",
      "|1000002|       1|       55|\n",
      "|1000002| 1000006|       33|\n",
      "|1000002| 1000007|        8|\n",
      "|1000002| 1000009|      144|\n",
      "|1000002| 1000010|      314|\n",
      "+-------+--------+---------+\n",
      "only showing top 5 rows\n",
      "\n",
      "The script takes 0.327428 seconds\n"
     ]
    }
   ],
   "source": [
    "bArtistAlias = []\n",
    "newUserArtistDF = []\n",
    "from time import time\n",
    "\n",
    "def replaceMispelledIDs(fields):\n",
    "    finalID = bArtistAlias.value.get( fields[1], fields[1])\n",
    "    return (fields[0], finalID, fields[2])\n",
    "\n",
    "t0 = time()\n",
    "bArtistAlias = sc.broadcast(artistAlias)\n",
    "newUserArtistDF = sqlContext.createDataFrame(\n",
    "    userArtistDF.rdd.map(replaceMispelledIDs), \n",
    "    userArtistDataSchema\n",
    ")\n",
    "newUserArtistDF.show(5)\n",
    "t1 = time()\n",
    "\n",
    "print('The script takes %f seconds' %(t1-t0))\n",
    "newUserArtistDF = newUserArtistDF.cache()"
   ]
  },
  {
   "cell_type": "markdown",
   "metadata": {},
   "source": [
    "<div style=\"background-color:rgba(249, 67, 6, 0.8); vertical-align: middle; padding:5px 0px 10px 10px;\">\n",
    "    <h3><font color='white'> ANSWER </font></h3>\n",
    "</div>\n",
    "\n",
    "We noticed that you don't include broadcast pharse into cleaning data task. When we tried it, the process time increase a little bit but it is still much smaller than those we don't use broadcast. Why is it efficient when we have only 1 stage?\n",
    "\n",
    "The data is divided into many partitions and each group have only 2 executor to run the task. Without broadcast, we have to attached ArtistAlias to each partitions (ex: if we have 10 partitions, we have to send ArtistAlias 10 times). If we use broadcast, we only need to send ArtistAlias to 2 executors, that is why we achieved shorter process time in this case "
   ]
  },
  {
   "cell_type": "markdown",
   "metadata": {},
   "source": [
    "Although having some advantages, explicitly creating broadcast variables is only useful when tasks across multiple stages need the same data or when caching the data in deserialized form is important."
   ]
  },
  {
   "cell_type": "markdown",
   "metadata": {},
   "source": [
    "### Question 5\n",
    "\n",
    "Well, our data frame contains clean and \"standard\" data. We can use it to redo previous statistic queries.\n",
    "\n",
    "#### Question 5.1\n",
    "\n",
    "How many unique artists? Compare with the result when using old data."
   ]
  },
  {
   "cell_type": "code",
   "execution_count": 54,
   "metadata": {
    "collapsed": false
   },
   "outputs": [
    {
     "name": "stdout",
     "output_type": "stream",
     "text": [
      "Total n. of artists:  1568126\n"
     ]
    }
   ],
   "source": [
    "uniqueArtists = newUserArtistDF.select(\"ArtistID\").distinct().count()\n",
    "\n",
    "print(\"Total n. of artists: \", uniqueArtists)\n"
   ]
  },
  {
   "cell_type": "markdown",
   "metadata": {},
   "source": [
    "<div style=\"background-color:rgba(249, 67, 6, 0.8); vertical-align: middle; padding:5px 0px 10px 10px;\">\n",
    "    <h3><font color='white'> ANSWER </font></h3>\n",
    "</div>\n",
    "\n",
    "Total n. of artists reduce from 1631028 in old data to 1568126 in cleaned data because it removes some mispelled name in artist."
   ]
  },
  {
   "cell_type": "markdown",
   "metadata": {},
   "source": [
    "#### Question 5.2\n",
    "\n",
    "Who are the top-10 artistis?\n",
    "  * In terms of absolute play counts\n",
    "  * In terms of \"audience size\", that is, how many users listened to one of their track at least once\n",
    "  \n",
    "Plot the results, and explain the figures you obtain."
   ]
  },
  {
   "cell_type": "markdown",
   "metadata": {},
   "source": [
    "### In terms of absolute play counts"
   ]
  },
  {
   "cell_type": "code",
   "execution_count": 36,
   "metadata": {
    "collapsed": false
   },
   "outputs": [
    {
     "data": {
      "image/png": "[encoded data removed]",
      "text/plain": [
       "<matplotlib.figure.Figure at 0x7fa22b2b3128>"
      ]
     },
     "metadata": {},
     "output_type": "display_data"
    }
   ],
   "source": [
    "# calculate top-10 artists in term of play counts\n",
    "top10ArtistsPC = newUserArtistDF.groupBy('artistID').sum('playCount').orderBy('sum(playCount)', ascending=0).take(10)\n",
    "\n",
    "y_pos = range(len(top10ArtistsPC))\n",
    "pdf = pd.DataFrame(data=top10ArtistsPC)\n",
    "\n",
    "plt.barh(y_pos, pdf[1][::-1], align='center', alpha=0.6)\n",
    "plt.yticks(y_pos[::-1], pdf[0])\n",
    "plt.xlabel('Play Count')\n",
    "plt.ylabel('Artist')\n",
    "plt.title('Top-10 Artist ID per play counts')\n",
    "plt.show()"
   ]
  },
  {
   "cell_type": "markdown",
   "metadata": {},
   "source": [
    "### In terms of \"audience size\", that is, how many users listened to one of their track at least once"
   ]
  },
  {
   "cell_type": "code",
   "execution_count": 37,
   "metadata": {
    "collapsed": false
   },
   "outputs": [
    {
     "data": {
      "image/png": "[encoded data removed]",
      "text/plain": [
       "<matplotlib.figure.Figure at 0x7fa229d03278>"
      ]
     },
     "metadata": {},
     "output_type": "display_data"
    }
   ],
   "source": [
    "# calculate top-10 artists in term of play counts\n",
    "top10ArtistsIDbyPC = [row[0] for row in top10ArtistsPC]\n",
    "top10ArtistsAS = newUserArtistDF.dropDuplicates(['userID','artistID']) \\\n",
    "                .groupBy('artistID').count().orderBy('count', ascending=0).take(10)\n",
    "#[newUserArtistDF['artistID'].isin(top10ArtistsIDbyPC)]\n",
    "pdf = pd.DataFrame(data=top10ArtistsAS)\n",
    "\n",
    "plt.barh(y_pos, pdf[1][::-1], align='center', alpha=0.4)\n",
    "plt.yticks(y_pos[::-1], pdf[0])\n",
    "plt.xlabel('Play Count')\n",
    "plt.ylabel('Artist')\n",
    "plt.title('Top-10 Artist ID per audience size')\n",
    "plt.show()"
   ]
  },
  {
   "cell_type": "markdown",
   "metadata": {},
   "source": [
    "<div style=\"background-color:rgba(249, 67, 6, 0.8); vertical-align: middle; padding:5px 0px 10px 10px;\">\n",
    "    <h3><font color='white'> ANSWER </font></h3>\n",
    "</div>\n",
    "\n",
    "In both graphs, 5 most common artist IDs by play count and by fan (distinct user listen their music) is different, which means some artirsts have higher average play count per user than others. \n",
    "\n",
    "However, those artists are also on the top of the list that means the popularity of artist over users and the number of playcount have some corelations."
   ]
  },
  {
   "cell_type": "code",
   "execution_count": 144,
   "metadata": {
    "collapsed": false
   },
   "outputs": [
    {
     "name": "stdout",
     "output_type": "stream",
     "text": [
      "+--------+----------------+\n",
      "|artistID|            name|\n",
      "+--------+----------------+\n",
      "|    4468|System of a Down|\n",
      "| 1000024|       Metallica|\n",
      "| 1000130|     Bright Eyes|\n",
      "| 1000113|     The Beatles|\n",
      "| 1001779|    Modest Mouse|\n",
      "|     979|       Radiohead|\n",
      "|     976|         Nirvana|\n",
      "|      82|      Pink Floyd|\n",
      "|     831| Nine Inch Nails|\n",
      "|    4267|       Green Day|\n",
      "+--------+----------------+\n",
      "\n",
      "+--------+--------------------+\n",
      "|artistID|                name|\n",
      "+--------+--------------------+\n",
      "| 1034635|           [unknown]|\n",
      "| 1000024|           Metallica|\n",
      "| 1000113|         The Beatles|\n",
      "|     979|           Radiohead|\n",
      "|    1274|Red Hot Chili Pep...|\n",
      "|    1177|            Coldplay|\n",
      "|    1205|                  U2|\n",
      "|     976|             Nirvana|\n",
      "|    3327|              Weezer|\n",
      "|    4267|           Green Day|\n",
      "+--------+--------------------+\n",
      "\n"
     ]
    }
   ],
   "source": [
    "#artistDF.filter(lambda line: line.artistID in top10ArtistsIDbyPC)\n",
    "artistDF[artistDF[\"artistID\"].isin(top10ArtistsIDbyPC)].show()\n",
    "top10ArtistsIDbyAS =  [row[0] for row in top10ArtistsAS ]\n",
    "artistDF[artistDF[\"artistID\"].isin(top10ArtistsIDbyAS)].show()"
   ]
  },
  {
   "cell_type": "code",
   "execution_count": 148,
   "metadata": {
    "collapsed": false
   },
   "outputs": [
    {
     "name": "stdout",
     "output_type": "stream",
     "text": [
      "+--------+--------------+\n",
      "|artistID|sum(playCount)|\n",
      "+--------+--------------+\n",
      "| 1034635|        348383|\n",
      "+--------+--------------+\n",
      "\n"
     ]
    }
   ],
   "source": [
    "userArtistDF[userArtistDF.artistID == \"1034635\"].groupby(\"artistID\").sum(\"playCount\").show()"
   ]
  },
  {
   "cell_type": "markdown",
   "metadata": {},
   "source": [
    "<div style=\"background-color:rgba(249, 67, 6, 0.8); vertical-align: middle; padding:5px 0px 10px 10px;\">\n",
    "    <h3><font color='white'> ANSWER </font></h3>\n",
    "</div>\n",
    "\n",
    "Because we see in the result of recommendation, the system recommends \"unknown\" artist for some users, I want to check whether 'unknown' is in the most popular artist by popularity or by playcount. We saw that \"unknown\"'s song is listened by over 30.000 users. \"unknown\" is invalid value for subtitution in case missing data so the first idea that problem in recommendation occur is \"unknown\" artists is listened by over users that are different \"taste of music\". When we try to recommend for new user who have specific \"taste of music\", \"unknown\" have high priority for system to recommend. We will try more test later to give better conclusion"
   ]
  },
  {
   "cell_type": "markdown",
   "metadata": {},
   "source": [
    "#### Question 5.3\n",
    "\n",
    "Who are the top-10 users?\n",
    "  * In terms of absolute play counts\n",
    "  * In terms of \"curiosity\", that is, how many different artists they listened to\n",
    "\n",
    "Plot the results"
   ]
  },
  {
   "cell_type": "code",
   "execution_count": 38,
   "metadata": {
    "collapsed": false
   },
   "outputs": [
    {
     "name": "stdout",
     "output_type": "stream",
     "text": [
      "[Row(userID=1059637, sum(playCount)=674412), Row(userID=2064012, sum(playCount)=548427), Row(userID=2069337, sum(playCount)=393515), Row(userID=2023977, sum(playCount)=285978), Row(userID=1046559, sum(playCount)=183972), Row(userID=1052461, sum(playCount)=175822), Row(userID=1070932, sum(playCount)=168977), Row(userID=1031009, sum(playCount)=167273), Row(userID=2020513, sum(playCount)=165642), Row(userID=2062243, sum(playCount)=151504)]\n"
     ]
    },
    {
     "data": {
      "image/png": "[encoded data removed]",
      "text/plain": [
       "<matplotlib.figure.Figure at 0x7fa229d23d30>"
      ]
     },
     "metadata": {},
     "output_type": "display_data"
    }
   ],
   "source": [
    "# calculate top 10 users interm of play counts\n",
    "top10UsersByPlayCount=newUserArtistDF.groupBy('userID').sum('playCount').orderBy('sum(playCount)',ascending=0).take(10)\n",
    "\n",
    "print(top10UsersByPlayCount)\n",
    "\n",
    "y_pos = range(len(top10UsersByPlayCount))\n",
    "pdf = pd.DataFrame(data=top10UsersByPlayCount)\n",
    "\n",
    "plt.barh(y_pos, pdf[1][::-1], align='center', alpha=0.4)\n",
    "plt.yticks(y_pos[::-1], pdf[0])\n",
    "plt.xlabel('Play Count')\n",
    "plt.ylabel('User')\n",
    "plt.title('Top-10 Users ID per play counts')\n",
    "plt.show()"
   ]
  },
  {
   "cell_type": "code",
   "execution_count": 39,
   "metadata": {
    "collapsed": false
   },
   "outputs": [
    {
     "name": "stdout",
     "output_type": "stream",
     "text": [
      "[Row(userID=2030067, count=6735), Row(userID=1024631, count=6125), Row(userID=1059334, count=5839), Row(userID=2016026, count=5773), Row(userID=2023686, count=4822), Row(userID=1045464, count=4734), Row(userID=1004584, count=4690), Row(userID=2010008, count=4411), Row(userID=2232770, count=4090), Row(userID=1006093, count=4005)]\n"
     ]
    },
    {
     "data": {
      "image/png": "[encoded data removed]",
      "text/plain": [
       "<matplotlib.figure.Figure at 0x7fa229f3f908>"
      ]
     },
     "metadata": {},
     "output_type": "display_data"
    }
   ],
   "source": [
    "top10UsersByCuriosity = newUserArtistDF.dropDuplicates(['UserID','ArtistID']).groupBy('userID').count().orderBy('count',ascending=0).take(10)\n",
    "print(top10UsersByCuriosity)\n",
    "\n",
    "y_pos = range(len(top10UsersByCuriosity))\n",
    "pdf = pd.DataFrame(data=top10UsersByCuriosity)\n",
    "\n",
    "plt.barh(y_pos, pdf[1][::-1], align='center', alpha=0.4)\n",
    "plt.yticks(y_pos[::-1], pdf[0])\n",
    "plt.xlabel('Curiosity')\n",
    "plt.ylabel('User')\n",
    "plt.title('Top-10 Users ID per curiosity')\n",
    "plt.show()"
   ]
  },
  {
   "cell_type": "code",
   "execution_count": 27,
   "metadata": {
    "collapsed": false
   },
   "outputs": [
    {
     "name": "stdout",
     "output_type": "stream",
     "text": [
      "+-------+--------+---------+\n",
      "| userID|artistID|playCount|\n",
      "+-------+--------+---------+\n",
      "|1059637| 1002095|   433060|\n",
      "|1059637| 1026440|   155895|\n",
      "|1059637| 1000130|    19129|\n",
      "|1059637| 1238230|     9294|\n",
      "|1059637|    1193|     7665|\n",
      "+-------+--------+---------+\n",
      "only showing top 5 rows\n",
      "\n"
     ]
    }
   ],
   "source": [
    "userArtistDF[userArtistDF.userID == \"1059637\"].orderBy('playCount',ascending=0).show(5)"
   ]
  },
  {
   "cell_type": "markdown",
   "metadata": {},
   "source": [
    "<div style=\"background-color:rgba(249, 67, 6, 0.8); vertical-align: middle; padding:5px 0px 10px 10px;\">\n",
    "    <h3><font color='white'> ANSWER </font></h3>\n",
    "</div>\n",
    "\n",
    "\n",
    "In this case, we can see that top 10 users by playcount and by curiousity are different. We can conclude that there is low corelation between playcount and curiosity of a same user.\n",
    "\n",
    "In addition, the top and second user by play count are dramatically different to others. Another evidence is number of playcount of a pair (userID,artistID). For example user 1059637 listens artist \"1002095\" for 433060 times and artist \"1026440\" for 155895 times, accounting for 85% of total play count of that user. Finally, we raise assume that user is not a human, it is possible someone use that to increase the view. "
   ]
  },
  {
   "cell_type": "markdown",
   "metadata": {},
   "source": [
    "<div style=\"background-color:#0080ff; vertical-align: middle; padding:5px 0px 10px 10px;\">\n",
    "    <h1><font color='white'> FINDING BETTER WAY TO REPRESENT \"RATING\" FEATURE </font></h1>\n",
    "</div>\n"
   ]
  },
  {
   "cell_type": "code",
   "execution_count": 40,
   "metadata": {
    "collapsed": false
   },
   "outputs": [],
   "source": [
    "userByArtist = newUserArtistDF.dropDuplicates(['UserID','ArtistID']).groupBy('userID').count().orderBy('UserID')\n",
    "userByPlayCount = newUserArtistDF.groupBy('userID').sum('playCount').orderBy('UserID')\n",
    "\n",
    "X = userByPlayCount.select(\"sum(playCount)\").collect()\n",
    "Y = userByArtist.select(\"count\").collect()\n",
    "X = [x[0] for x in X]\n",
    "Y = [y[0] for y in Y]"
   ]
  },
  {
   "cell_type": "code",
   "execution_count": 66,
   "metadata": {
    "collapsed": false
   },
   "outputs": [
    {
     "name": "stderr",
     "output_type": "stream",
     "text": [
      "/opt/conda/lib/python3.5/site-packages/matplotlib/collections.py:590: FutureWarning: elementwise comparison failed; returning scalar instead, but in the future will perform elementwise comparison\n",
      "  if self._edgecolors == str('face'):\n"
     ]
    },
    {
     "data": {
      "image/png": "[encoded data removed]",
      "text/plain": [
       "<matplotlib.figure.Figure at 0x7f1458cf8ac8>"
      ]
     },
     "metadata": {},
     "output_type": "display_data"
    }
   ],
   "source": [
    "plt.scatter( np.log(X),Y)\n",
    "plt.xlabel('log(Total Play Counts)')\n",
    "plt.ylabel('Number of different artists')\n",
    "plt.grid(True,which=\"both\",ls=\"-\")\n",
    "plt.title('Relation between numbers of artist and total PlayCount in each user')\n",
    "plt.ylim(-100, 7500)\n",
    "plt.xlim(0,14)\n",
    "plt.show()"
   ]
  },
  {
   "cell_type": "code",
   "execution_count": 138,
   "metadata": {
    "collapsed": false
   },
   "outputs": [
    {
     "name": "stderr",
     "output_type": "stream",
     "text": [
      "/opt/conda/lib/python3.5/site-packages/matplotlib/collections.py:590: FutureWarning: elementwise comparison failed; returning scalar instead, but in the future will perform elementwise comparison\n",
      "  if self._edgecolors == str('face'):\n"
     ]
    },
    {
     "data": {
      "image/png": "[encoded data removed]",
      "text/plain": [
       "<matplotlib.figure.Figure at 0x7f1452b96358>"
      ]
     },
     "metadata": {},
     "output_type": "display_data"
    },
    {
     "data": {
      "image/png": "[encoded data removed]",
      "text/plain": [
       "<matplotlib.figure.Figure at 0x7f1452f74e10>"
      ]
     },
     "metadata": {},
     "output_type": "display_data"
    },
    {
     "data": {
      "image/png": "[encoded data removed]",
      "text/plain": [
       "<matplotlib.figure.Figure at 0x7f1453f6b588>"
      ]
     },
     "metadata": {},
     "output_type": "display_data"
    }
   ],
   "source": [
    "from scipy.stats import gaussian_kde\n",
    "x = np.array(np.log(X))\n",
    "y = np.array(Y)\n",
    "\n",
    "plt.hist2d(x, y, (100, 100), cmap=plt.cm.jet,vmin=1, vmax=1000)\n",
    "plt.colorbar()\n",
    "plt.xlabel('log(Total Play Counts)')\n",
    "plt.ylabel('Number of different artists')\n",
    "plt.grid(True,which=\"both\",ls=\"-\",c=\"w\")\n",
    "plt.title('Density of numbers of user')\n",
    "plt.show()\n",
    "\n",
    "plt.hist2d(x, y, (50, 50), cmap=plt.cm.jet,vmin=1, vmax=1800)\n",
    "plt.colorbar()\n",
    "plt.xlabel('log(Total Play Counts)')\n",
    "plt.ylabel('Number of different artists')\n",
    "plt.ylim(-10,1200)\n",
    "plt.grid(True,which=\"both\",ls=\"-\",c=\"w\")\n",
    "plt.title('Density of numbers of user')\n",
    "plt.show()\n",
    "\n",
    "plt.hist2d(x, np.log(y), (100, 100), cmap=plt.cm.jet,vmin=1, vmax=300)\n",
    "plt.colorbar()\n",
    "plt.xlabel('log(Total Play Counts)')\n",
    "plt.ylabel('log(Number of different artists)')\n",
    "plt.grid(True,which=\"both\",ls=\"-\",c=\"w\")\n",
    "plt.show()\n",
    "\n"
   ]
  },
  {
   "cell_type": "markdown",
   "metadata": {},
   "source": [
    "<div style=\"background-color:rgba(249, 67, 6, 0.8); vertical-align: middle; padding:5px 0px 10px 10px;\">\n",
    "    <h3><font color='white'> IDEA </font></h3>\n",
    "</div>\n",
    "\n",
    "Users who listen only one time in the system are not useful to training the model. It can be the user who accidentally listen a song after they register. \n",
    "\n",
    "Users who listen many kinds of music (lots of artists in this case) are also not useful because they can be similar with lots of user. If we recommend songs from user listening many kinds of music to user listening only 1 or 2 kinds of music, it won't be good. \n",
    "\n",
    "So we need a weight that is proportional to total play counts and inversely proportional to numbers of different artists for each user. But the range of total playcount and number of different artists are [1-700.000] and [1-7000] correspondingly. It is quite broad even we try with ratio between them. In the last figure,we show you density of numbers of user by 2 dimensions we mentions above. We want to consider users that in the cloud whose range is from 150~300. We propose new rating = PlayCount * log(Total play count of that user)/(2*log(Number of different artists of that user))"
   ]
  },
  {
   "cell_type": "code",
   "execution_count": 58,
   "metadata": {
    "collapsed": false
   },
   "outputs": [
    {
     "name": "stdout",
     "output_type": "stream",
     "text": [
      "NUMBER OF USER LISTEN LESS THAN 6 Times:  5230\n"
     ]
    }
   ],
   "source": [
    "userAggPlayCount = newUserArtistDF.groupBy('userID').sum('playCount')\n",
    "userAggPC5 = userAggPlayCount[userAggPlayCount[\"sum(playCount)\"]<6].collect()\n",
    "listUserAggPC5 = [x[0] for x in userAggPC5]\n",
    "print(\"NUMBER OF USER LISTEN LESS THAN 6 Times: \", len(listUserAggPC5))"
   ]
  },
  {
   "cell_type": "code",
   "execution_count": 57,
   "metadata": {
    "collapsed": false
   },
   "outputs": [
    {
     "data": {
      "image/png": "[encoded data removed]",
      "text/plain": [
       "<matplotlib.figure.Figure at 0x7fa2286541d0>"
      ]
     },
     "metadata": {},
     "output_type": "display_data"
    }
   ],
   "source": [
    "userPC5 = newUserArtistDF[newUserArtistDF[\"userID\"].isin(listUserAggPC5)]\n",
    "top10ArtistsPC5 = userPC5.groupBy('artistID').sum('playCount').orderBy('sum(playCount)', ascending=0).take(10)\n",
    "\n",
    "y_pos = range(len(top10ArtistsPC5))\n",
    "pdf = pd.DataFrame(data=top10ArtistsPC5)\n",
    "\n",
    "plt.barh(y_pos, pdf[1][::-1], align='center', alpha=0.6)\n",
    "plt.yticks(y_pos[::-1], pdf[0])\n",
    "plt.xlabel('Play Count')\n",
    "plt.ylabel('Artist')\n",
    "plt.title('Top-5 Artist ID per play counts')\n",
    "plt.show()"
   ]
  },
  {
   "cell_type": "markdown",
   "metadata": {},
   "source": [
    "<div style=\"background-color:rgba(249, 67, 6, 0.8); vertical-align: middle; padding:5px 0px 10px 10px;\">\n",
    "    <h3><font color='white'> USER LISTENS LESS THAN 5 TIMES IN THE SYSTEM </font></h3>\n",
    "</div>\n",
    "As we mentioned above, The user listens less than 5 time is 5230 and the number of playcount of the most popular artist in this population is 90. So we show that population of new user randomly listen artists. \n",
    "\n",
    "In addition, if you compare it with top-10 artist by playcount, we don't see any relations. That is an evidence to strengthen our conclusion above."
   ]
  },
  {
   "cell_type": "code",
   "execution_count": 59,
   "metadata": {
    "collapsed": false
   },
   "outputs": [
    {
     "data": {
      "text/plain": [
       "[Row(userID=1059637, sum(playCount)=674412),\n",
       " Row(userID=2064012, sum(playCount)=548427),\n",
       " Row(userID=2069337, sum(playCount)=393515),\n",
       " Row(userID=2023977, sum(playCount)=285978),\n",
       " Row(userID=1046559, sum(playCount)=183972),\n",
       " Row(userID=1052461, sum(playCount)=175822),\n",
       " Row(userID=1070932, sum(playCount)=168977),\n",
       " Row(userID=1031009, sum(playCount)=167273),\n",
       " Row(userID=2020513, sum(playCount)=165642),\n",
       " Row(userID=2062243, sum(playCount)=151504)]"
      ]
     },
     "execution_count": 59,
     "metadata": {},
     "output_type": "execute_result"
    }
   ],
   "source": [
    "top10UsersByPlayCount"
   ]
  },
  {
   "cell_type": "code",
   "execution_count": 108,
   "metadata": {
    "collapsed": false
   },
   "outputs": [],
   "source": [
    "def ratioTopArtist(userID):\n",
    "    userPCS = newUserArtistDF[newUserArtistDF[\"userID\"]==userID]\n",
    "    totalPCS = userPCS.agg(sum(\"playCount\")).collect()[0][0]\n",
    "    top10ArtistsUser = userPCS.groupBy('artistID').agg((sum('playCount')/totalPCS).alias('ratio')) \\\n",
    "                        .orderBy('ratio', ascending=0).take(10)\n",
    "    return pd.DataFrame(top10ArtistsUser)"
   ]
  },
  {
   "cell_type": "code",
   "execution_count": 155,
   "metadata": {
    "collapsed": false
   },
   "outputs": [
    {
     "data": {
      "text/plain": [
       "<matplotlib.text.Text at 0x7fa229172ef0>"
      ]
     },
     "execution_count": 155,
     "metadata": {},
     "output_type": "execute_result"
    },
    {
     "data": {
      "image/png": "[encoded data removed]",
      "text/plain": [
       "<matplotlib.figure.Figure at 0x7fa229065390>"
      ]
     },
     "metadata": {},
     "output_type": "display_data"
    }
   ],
   "source": [
    "plt.figure(1,figsize=(20,20))\n",
    "plt.subplot(3,3,1)\n",
    "pdf = ratioTopArtist(1059637)\n",
    "y_pos = range(len(pdf[1]))\n",
    "plt.barh(y_pos,pdf[1][::-1],align=\"center\")\n",
    "plt.yticks(y_pos[::-1], pdf[0])\n",
    "plt.xlabel('Ratio Play Count in a user')\n",
    "plt.xlim(0,0.5)\n",
    "plt.ylabel('Top 10 listen Artist')\n",
    "plt.title('Distribution of artist by playcount in user 1059637')\n",
    "\n",
    "plt.subplot(3,3,2)\n",
    "pdf = ratioTopArtist(2069337)\n",
    "y_pos = range(len(pdf[1]))\n",
    "plt.barh(y_pos,pdf[1][::-1],align=\"center\")\n",
    "plt.yticks(y_pos[::-1], pdf[0])\n",
    "plt.xlim(0,0.5)\n",
    "plt.xlabel('Ratio Play Count in a user')\n",
    "plt.ylabel('Top 10 listen Artist')\n",
    "plt.title('Distribution of artist by playcount in user 2069337')\n",
    "\n",
    "plt.subplot(3,3,3)\n",
    "pdf = ratioTopArtist(1046559)\n",
    "y_pos = range(len(pdf[1]))\n",
    "plt.barh(y_pos,pdf[1][::-1],align=\"center\")\n",
    "plt.yticks(y_pos[::-1], pdf[0])\n",
    "plt.xlabel('Ratio Play Count in a user')\n",
    "plt.xlim(0,0.5)\n",
    "plt.ylabel('Top 10 listen Artist')\n",
    "plt.title('Distribution of artist by playcount in user 1046559')\n",
    "\n",
    "plt.subplot(3,3,4)\n",
    "pdf = ratioTopArtist(1052461)\n",
    "y_pos = range(len(pdf[1]))\n",
    "plt.barh(y_pos,pdf[1][::-1],align=\"center\")\n",
    "plt.xlim(0,0.5)\n",
    "plt.yticks(y_pos[::-1], pdf[0])\n",
    "plt.xlabel('Ratio Play Count in a user')\n",
    "plt.ylabel('Top 10 listen Artist')\n",
    "plt.title('Distribution of artist by playcount in user 1052461')\n",
    "\n",
    "plt.subplot(3,3,5)\n",
    "pdf = ratioTopArtist(1031009)\n",
    "y_pos = range(len(pdf[1]))\n",
    "plt.barh(y_pos,pdf[1][::-1],align=\"center\")\n",
    "plt.yticks(y_pos[::-1], pdf[0])\n",
    "plt.xlabel('Ratio Play Count in a user')\n",
    "plt.ylabel('Top 10 listen Artist')\n",
    "plt.xlim(0,0.5)\n",
    "plt.title('Distribution of artist by playcount in user 1031009')\n",
    "\n",
    "plt.subplot(3,3,6)\n",
    "pdf = ratioTopArtist(2020513)\n",
    "y_pos = range(len(pdf[1]))\n",
    "plt.barh(y_pos,pdf[1][::-1],align=\"center\")\n",
    "plt.yticks(y_pos[::-1], pdf[0])\n",
    "plt.xlim(0,0.5)\n",
    "plt.xlabel('Ratio Play Count in a user')\n",
    "plt.ylabel('Top 10 listen Artist')\n",
    "plt.title('Distribution of artist by playcount in user 2020513')\n"
   ]
  },
  {
   "cell_type": "markdown",
   "metadata": {},
   "source": [
    "<div style=\"background-color:rgba(249, 67, 6, 0.8); vertical-align: middle; padding:5px 0px 10px 10px;\">\n",
    "    <h3><font color='white'> USER LISTENS ONLY SOME ARTIST OR KIND OF MUSIC</font></h3>\n",
    "</div>\n",
    "As we want to check our second hypothesis, The user listens only some kinds of music. You can see some users only listen some artist and some listen many artist. However, we need a data to check whether those artists are relative or not."
   ]
  },
  {
   "cell_type": "markdown",
   "metadata": {},
   "source": [
    "\n",
    "Now we have some valuable information about the data. It's the time to study how to build a statistical models."
   ]
  },
  {
   "cell_type": "markdown",
   "metadata": {},
   "source": [
    "# 2. Build a statistical models to make recommendations\n",
    "\n",
    "## 2.1 Introduction to recommender systems\n",
    "\n",
    "In a recommendation-system application there are two classes of entities, which we shall refer to as `users` and `items`. Users have preferences for certain items, and these preferences must be inferred from the data. The data itself is represented as a `preference matrix` $A$, giving for each user-item pair, a value that represents what is known about the degree of preference of that user for that item. The table below is an example for a `preference matrix` of 5 users and `k` items. The `preference matrix` is also known as `utility matrix`.\n",
    "\n",
    "| | IT1 | IT2 | IT3 | ... | ITk |\n",
    "|---|---|---|---|---|---|\n",
    "| U1 | 1 |  | 5 | ... | 3 |\n",
    "| U2 |  | 2 |  | ... | 2 |\n",
    "| U3 | 5 |  | 3 | ... |  |\n",
    "| U4 | 3 | 3 |  | ... | 4 |\n",
    "| U5 |  | 1 |  | ... | ... |\n",
    "\n",
    "The value of row i, column j expresses how much does user `i` like item `j`. The values are often the rating scores of users for items. An unknown value implies that we have no explicit information about the user's preference for the item. The goal of a recommendation system is to predict \"the blanks\" in the `preference matrix`. For example, assume that the rating score is from 1 (dislike) to 5 (love), would user `U5` like `IT3` ? We have two approaches:\n",
    "\n",
    "* Designing our recommendation system to take into account properties of items such as brand, category, price... or even the similarity of their names. We can denote the **similarity of items `IT2` and `IT3`**, and then conclude that because user `U5` did not like `IT2`, they were unlikely to enjoy SW2 either.\n",
    "\n",
    "* We might observe that **the people who rated both `IT2` and `IT3` tended to give them similar ratings**. Thus, we could conclude that user `U5` would also give `IT3` a low rating, similar to `U5`'s rating of `IT2`\n",
    "\n",
    "It is not necessary to predict every blank entry in a `utility matrix`. Rather, it is only necessary to discover some entries in each row that are likely to be high. In most applications, the recommendation system does not oﬀer users a ranking of all items, but rather suggests a few that the user should value highly. It may not even be necessary to ﬁnd all items with the highest expected ratings, but only to ﬁnd a large subset of those with the highest ratings.\n",
    "\n",
    "\n",
    "## 2.2 Families of recommender systems\n",
    "\n",
    "In general, recommender systems can be categorized into two groups:\n",
    "\n",
    "* **Content-Based** systems **focus on properties of items**. Similarity of items is determined by measuring the similarity in their properties.\n",
    "\n",
    "* **Collaborative-Filtering** systems focus on the **relationship between users and items**. Similarity of items is determined by the similarity of the ratings of those items by the users who have rated both items.\n",
    "\n",
    "In the usecase of this notebook, artists take the role of `items`, and `users` keep the same role as `users`.\n",
    "Since we have no information about `artists`, except their names, we cannot build a `content-based` recommender system.\n",
    "\n",
    "Therefore, in the rest of this notebook, we only focus on `Collaborative-Filtering` algorithms.\n",
    "\n",
    "## 2.3 Collaborative-Filtering \n",
    "In this section, we study a member of a broad class of algorithms called `latent-factor` models. They try to explain observed interactions between large numbers of users and products through a relatively small number of unobserved, underlying reasons. It is analogous to explaining why millions of people buy a particular few of thousands of possible albums by describing users and albums in *terms of tastes* for perhaps tens of genres, tastes which are **not directly observable or given** as data. \n",
    "\n",
    "First, we formulate the learning problem as a matrix completion problem. Then, we will use a type of `matrix factorization` model to \"fill in\" the blanks.  We are given implicit ratings that users have given certain items (that is, the number of times they played a particular artist) and our goal is to predict their ratings for the rest of the items. Formally, if there are $n$ users and $m$ items, we are given an $n \\times m$ matrix $R$ in which the generic entry $(u, i)$ represents the rating for item $i$ by user $u$. **Matrix $R$ has many missing entries indicating unobserved ratings, and our task is to estimate these unobserved ratings**.\n",
    "\n",
    "A popular approach to the matrix completion problem is **matrix factorization**, where we want to \"summarize\" users and items with their **latent factors**."
   ]
  },
  {
   "cell_type": "markdown",
   "metadata": {},
   "source": [
    "# 3. Usecase : Music recommender system\n",
    "\n",
    "In this usecase, we use the data of users and artists in the previous sections to build a statistical model to recommend artists for users.\n",
    " \n",
    "## 3.1 Requirements\n",
    "According to the properties of data, we need to choose a recommender algorithm that is suitable for this implicit feedback data. It means that the algorithm should learn without access to user or artist attributes such as age, genre,.... Therefore, an algorithm of type `collaborative filtering` is the best choice.\n",
    "\n",
    "Second, in the data, there are some users that have listened to only 1 artist. We need an algorithm that might provide decent recommendations to even these users. After all, at some point, every user starts out with just one play at some point! \n",
    "\n",
    "Third, we need an algorithm that scales, both in its ability to build large models, and to create recommendations quickly. So, an algorithm which can run on a distributed system (SPARK, Hadoop...) is very suitable.\n",
    "\n",
    "From these requirement, we can choose using ALS algorithm in SPARK's MLLIB.\n",
    "\n",
    "Spark MLlib’s ALS implementation draws on ideas from [1](http://yifanhu.net/PUB/cf.pdf) and [2](http://link.springer.com/chapter/10.1007%2F978-3-540-68880-8_32).\n",
    "\n",
    "## 3.2 Notes\n",
    "\n",
    "Currently, MLLIB can only build models from an RDD. That means we have two ways to prepare data:\n",
    "\n",
    "* Loading to into SPARK SQL DataFrame as before, and then access the corresponding RDD by calling `<dataframe>.rdd`. The invalid data is often sucessfully dropped by using mode `DROPMALFORMED`. However, this way might not work in all cases. Fortunately, we can use it with this usecase.\n",
    "\n",
    "* Loading data directly to RDD. However, we have to deal with the invalid data ourself. In the trade-off, this way is the most reliable, and can work in every case.\n",
    "\n",
    "In this notebook, we will use the second approach: it requires a bit more effort, but the reward is worth it!\n",
    "\n",
    " \n",
    "## 3.3 Cleanup the data\n",
    "In section 1, we already replaced the ids of mispelled artists by the corresponding standard ids by using SPARK SQL API.\n",
    "However, if the data has the invalid entries such that SPARK SQL API is stuck, the best way to work with it is using an RDD.\n",
    "\n",
    "Just as a recall, we work with three datasets in `user_artist_data.txt`, `` and `artist_alias.txt`. The entries in these file can be empty or have only one field. \n",
    "\n",
    "In details our goal now is:\n",
    "\n",
    "* Read the input ```user_artist_data.txt``` and transforms its representation into an output dataset.\n",
    "* To produce an output \"tuple\" containing the original user identifier and play counts, but with the artist identifier replaced by its most common alias, as found in the ```artist_alias.txt``` dataset.\n",
    "* Since the ```artist_alias.txt``` file is small, we can use a technique called **broadcast variables** to make such transformation more efficient.\n"
   ]
  },
  {
   "cell_type": "markdown",
   "metadata": {},
   "source": [
    "### Question 6\n",
    "\n",
    "#### Question 6.1\n",
    "Load data from `/datasets/lastfm/artist_alias.txt` and filter out the invalid entries to construct a dictionary to map from mispelled artists' ids to standard ids.\n",
    "\n",
    "NOTE: From now on, we will use the \"standard\" data to train our model.\n",
    "\n",
    "HINT: If a line contains less than 2 fields or contains invalid numerial values, we can return a special tuple. After that, we can filter out these special tuples."
   ]
  },
  {
   "cell_type": "code",
   "execution_count": 24,
   "metadata": {
    "collapsed": false,
    "scrolled": false
   },
   "outputs": [],
   "source": [
    "rawArtistAlias = sc.textFile(base + \"artist_alias.txt\")\n",
    "\n",
    "def xtractFields(s):\n",
    "    # Using white space or tab character as separetors,\n",
    "    # split a line into list of strings \n",
    "    line = re.split(\"\\s|\\t\",s,1)\n",
    "    # if this line has at least 2 characters\n",
    "    if (len(line) > 1):\n",
    "        try:\n",
    "            # try to parse the first and the second components to integer type\n",
    "            return (int(line[0]), int(line[1]))\n",
    "        except ValueError:\n",
    "            # if parsing has any error, return a special tuple\n",
    "            return (-1,-1)\n",
    "    else:\n",
    "        # if this line has less than 2 characters, return a special tuple\n",
    "        return (-1,-1)\n",
    "\n",
    "artistAlias = (\n",
    "                rawArtistAlias\n",
    "                    # extract fields using function xtractFields\n",
    "                    .map( lambda x: xtractFields(x))\n",
    "    \n",
    "                    # fileter out the special tuples\n",
    "                    .filter(lambda x: x != (-1,-1))\n",
    "                    \n",
    "                    # collect result to the driver as a \"dictionary\"\n",
    "                    .collectAsMap()\n",
    "                )\n",
    "    "
   ]
  },
  {
   "cell_type": "markdown",
   "metadata": {
    "collapsed": false
   },
   "source": [
    "#### Question 6.2\n",
    "Using the dictionary in question 6.1, prepare RDD `userArtistDataRDD` by replacing mispelled artists' ids to standard ids. Show 5 samples.\n",
    "\n",
    "HINT: Using broadcast varible can help us increase the effiency."
   ]
  },
  {
   "cell_type": "code",
   "execution_count": 25,
   "metadata": {
    "collapsed": false
   },
   "outputs": [
    {
     "data": {
      "text/plain": [
       "[('1000002', 1, 55),\n",
       " ('1000002', 1000006, 33),\n",
       " ('1000002', 1000007, 8),\n",
       " ('1000002', 1000009, 144),\n",
       " ('1000002', 1000010, 314)]"
      ]
     },
     "execution_count": 25,
     "metadata": {},
     "output_type": "execute_result"
    }
   ],
   "source": [
    "bArtistAlias = sc.broadcast(artistAlias)\n",
    "rawUserArtistData = sc.textFile(base + \"user_artist_data.txt\")\n",
    "\n",
    "def disambiguate(line):\n",
    "    [userID, artistID, count] = line.split(' ')\n",
    "    finalArtistID = bArtistAlias.value.get(int(artistID),int(artistID))\n",
    "    return (userID, finalArtistID, int(count))\n",
    "\n",
    "userArtistDataRDD = rawUserArtistData.map(lambda x: disambiguate(x))\n",
    "userArtistDataRDD.take(5)\n"
   ]
  },
  {
   "cell_type": "code",
   "execution_count": 159,
   "metadata": {
    "collapsed": false
   },
   "outputs": [
    {
     "name": "stdout",
     "output_type": "stream",
     "text": [
      "NUMBER OF RECORD BEFORE AND AFTER CLEANING:  24296858 24296858\n"
     ]
    }
   ],
   "source": [
    "print(\"NUMBER OF RECORD BEFORE AND AFTER CLEANING: \",rawUserArtistData.count(),userArtistDataRDD.count())"
   ]
  },
  {
   "cell_type": "markdown",
   "metadata": {},
   "source": [
    "<div style=\"background-color:rgba(249, 67, 6, 0.8); vertical-align: middle; padding:5px 0px 10px 10px;\">\n",
    "    <h3><font color='white'> ANSWER </font></h3>\n",
    "</div>\n",
    "\n",
    "We saw that you don't have any aggregation after you clean data, that will affect to the training and evaluation. \n",
    "\n",
    "How does it affect? When we split data, instead of removing the playcount of pair (userid, artistid) we just reduce it. That means we already changed behaviour of our user. **The play counts of some artists who have alias is diluted**. In addition, we can't predict rating for that (userid, artist) that affect to our evaluation too.\n",
    "\n",
    "We can see from the result that, number of record before cleaning and after cleaning is the same. That means we still not aggregate our result which is same value (userID, artistID). "
   ]
  },
  {
   "cell_type": "markdown",
   "metadata": {},
   "source": [
    "## 3.4 Training our statistical model\n",
    "To train a model using ALS, we must use a preference matrix  as an input. MLLIB uses the class `Rating` to support the construction of a distributed preference matrix."
   ]
  },
  {
   "cell_type": "markdown",
   "metadata": {},
   "source": [
    "### Question 7\n",
    "\n",
    "#### Question 7.1\n",
    "Given RDD `userArtistDataRDD` in question 6.2, construct a new RDD `trainingData` by tranforming each item of it into a `Rating` object."
   ]
  },
  {
   "cell_type": "code",
   "execution_count": 26,
   "metadata": {
    "collapsed": false
   },
   "outputs": [],
   "source": [
    "from pyspark.mllib.recommendation import ALS, MatrixFactorizationModel, Rating"
   ]
  },
  {
   "cell_type": "code",
   "execution_count": 27,
   "metadata": {
    "collapsed": false
   },
   "outputs": [
    {
     "data": {
      "text/plain": [
       "[(('2304552', 1037403), 2),\n",
       " (('2019845', 1182489), 2),\n",
       " (('2233186', 1331984), 15),\n",
       " (('2007899', 1109064), 2),\n",
       " (('2194324', 10267133), 4)]"
      ]
     },
     "execution_count": 27,
     "metadata": {},
     "output_type": "execute_result"
    }
   ],
   "source": [
    "#AGGREGATE ALL DUPLICATE (userID, artistID)\n",
    "newUserArtistDataRDD = userArtistDataRDD.map(lambda line: ((line[0],line[1]),line[2])).reduceByKey(lambda a,b:a+b)\n",
    "newUserArtistDataRDD.take(5)"
   ]
  },
  {
   "cell_type": "code",
   "execution_count": 162,
   "metadata": {
    "collapsed": false
   },
   "outputs": [
    {
     "name": "stdout",
     "output_type": "stream",
     "text": [
      "NUMBER OF RECORDS AFTER AGGREGATION:  24133304\n"
     ]
    }
   ],
   "source": [
    "print(\"NUMBER OF RECORDS AFTER AGGREGATION: \",newUserArtistDataRDD.count())"
   ]
  },
  {
   "cell_type": "markdown",
   "metadata": {},
   "source": [
    "<div style=\"background-color:rgba(249, 67, 6, 0.8); vertical-align: middle; padding:5px 0px 10px 10px;\">\n",
    "    <h3><font color='white'> ANSWER </font></h3>\n",
    "</div>\n",
    "\n",
    "Number of (userID,artistID) records reduce from 24296858 to 24133304. Now our pair key (userID,artistID) is unique"
   ]
  },
  {
   "cell_type": "code",
   "execution_count": 163,
   "metadata": {
    "collapsed": false
   },
   "outputs": [
    {
     "data": {
      "text/plain": [
       "[Rating(user=2278527, product=1010583, rating=2.0),\n",
       " Rating(user=2019378, product=2828, rating=66.0),\n",
       " Rating(user=2223640, product=4455, rating=2.0)]"
      ]
     },
     "execution_count": 163,
     "metadata": {},
     "output_type": "execute_result"
    }
   ],
   "source": [
    "allData = newUserArtistDataRDD.map(lambda r: Rating(r[0][0], r[0][1], r[1])).repartition(10).cache()\n",
    "allData.take(3)"
   ]
  },
  {
   "cell_type": "code",
   "execution_count": 164,
   "metadata": {
    "collapsed": false
   },
   "outputs": [
    {
     "data": {
      "text/plain": [
       "[Rating(user=2036216, product=1201049, rating=9.0),\n",
       " Rating(user=2036216, product=6618014, rating=4.0),\n",
       " Rating(user=2036216, product=1216872, rating=2.0)]"
      ]
     },
     "execution_count": 164,
     "metadata": {},
     "output_type": "execute_result"
    }
   ],
   "source": [
    "allDataOld = userArtistDataRDD.map(lambda r: Rating(r[0], r[1], r[2])).repartition(10).cache()\n",
    "allDataOld.take(3)"
   ]
  },
  {
   "cell_type": "markdown",
   "metadata": {},
   "source": [
    "### BEFORE FIXING THE DISAMBIGUATE CODE"
   ]
  },
  {
   "cell_type": "code",
   "execution_count": 165,
   "metadata": {
    "collapsed": false
   },
   "outputs": [
    {
     "name": "stdout",
     "output_type": "stream",
     "text": [
      "number of duplication in all data after cleaning:  0\n"
     ]
    }
   ],
   "source": [
    "duplicateInAllData = allData.map(lambda line: ((line[0],line[1]),line[2])).countByKey()\n",
    "print(\"number of duplication in all data after cleaning: \", len([x for x in list(duplicateInAllData.values()) if x > 1]))"
   ]
  },
  {
   "cell_type": "markdown",
   "metadata": {},
   "source": [
    "### AFTER FIXING THE DISAMBIGUATE CODE"
   ]
  },
  {
   "cell_type": "code",
   "execution_count": 67,
   "metadata": {
    "collapsed": false
   },
   "outputs": [
    {
     "name": "stdout",
     "output_type": "stream",
     "text": [
      "number of duplication in all data after cleaning:  141922\n"
     ]
    }
   ],
   "source": [
    "duplicateInAllData = userArtistDataRDD.map(lambda line: ((line[0],line[1]),line[2])).countByKey()\n",
    "print(\"number of duplication in all data after cleaning: \", len([x for x in list(duplicateInAllData.values()) if x > 1]))"
   ]
  },
  {
   "cell_type": "markdown",
   "metadata": {},
   "source": [
    "<div style=\"background-color:rgba(249, 67, 6, 0.8); vertical-align: middle; padding:5px 0px 10px 10px;\">\n",
    "    <h3><font color='white'> ANSWER </font></h3>\n",
    "</div>\n",
    "\n",
    "Now we test whether duplication in our cleaned data again, we see that there no duplication and numbers of records is same as the one before cleaning. That is so strange in case we don't have aggregation function. That mean our cleaning function have problem. I tried to read the code and found that the problem is when we try to get value from ArtistAlias dictionary, we don't convert ArtistID to int. That made the function always return the input value."
   ]
  },
  {
   "cell_type": "markdown",
   "metadata": {
    "collapsed": false
   },
   "source": [
    "#### Question 7.2\n",
    "A model can be trained by using `ALS.trainImplicit(<training data>, <rank>)`, where:\n",
    "* `training data` is the input data you decide to feed to the ALS algorithm\n",
    "* `rank` is the number of laten features\n",
    "\n",
    "We can also use some additional parameters to adjust the quality of the model. Currently, let's set \n",
    "\n",
    "- `rank=10`\n",
    "- `iterations=5`\n",
    "- `lambda_=0.01`\n",
    "- `alpha=1.0` \n",
    "\n",
    "to build model."
   ]
  },
  {
   "cell_type": "code",
   "execution_count": 166,
   "metadata": {
    "collapsed": false
   },
   "outputs": [
    {
     "name": "stdout",
     "output_type": "stream",
     "text": [
      "finish training model in 30.051454 secs\n"
     ]
    }
   ],
   "source": [
    "t0 = time()\n",
    "model = ALS.trainImplicit(allData, rank = 10, iterations = 5, lambda_=0.01,alpha=1.0)\n",
    "t1 = time()\n",
    "print(\"finish training model in %f secs\" % (t1 - t0))\n"
   ]
  },
  {
   "cell_type": "markdown",
   "metadata": {},
   "source": [
    "#### Question 7.3\n",
    "The trained model can be saved into HDFS for later use. This can be done via `model.save(sc, <file_name>)`.\n",
    "Let's use this function to store our model as name `lastfm_model.spark`.\n",
    "\n",
    "NOTE 1: since you may have noticed that building the model takes some time, it might come to your mind that this information could be stored, such that you can \"interrupt\" your laboratory session here, and restart next time by loading your model.\n",
    "\n",
    "NOTE 2: funnily enough, it could take more time to save the model than to build it from scratch! So take a look at the execution time to save the model: this method actually stores the model as Parquet files, which are column-oriented and compressed.\n",
    "\n",
    "NOTE 3: to check you have your file on HDFS, you are invited to open a terminal from the \"Home\" Jupyter dashboard, and type `hdfs dfs -ls` to check."
   ]
  },
  {
   "cell_type": "code",
   "execution_count": 167,
   "metadata": {
    "collapsed": false
   },
   "outputs": [
    {
     "name": "stdout",
     "output_type": "stream",
     "text": [
      "Deleted lastfm_model.spark\r\n"
     ]
    }
   ],
   "source": [
    "! hdfs dfs -rm -R -f -skipTrash lastfm_model.spark\n",
    "model.save( sc , \"lastfm_model.spark\" )"
   ]
  },
  {
   "cell_type": "code",
   "execution_count": 168,
   "metadata": {
    "collapsed": false
   },
   "outputs": [
    {
     "name": "stdout",
     "output_type": "stream",
     "text": [
      "Found 1 items\r\n",
      "drwxr-xr-x   - user17 supergroup          0 2017-03-20 11:04 lastfm_model.spark\r\n"
     ]
    }
   ],
   "source": [
    "! hdfs dfs -ls"
   ]
  },
  {
   "cell_type": "markdown",
   "metadata": {},
   "source": [
    "<div style=\"background-color:rgba(249, 67, 6, 0.8); vertical-align: middle; padding:5px 0px 10px 10px;\">\n",
    "    <h3><font color='white'> ANSWER </font></h3>\n",
    "</div>\n",
    "\n",
    "From hdfs system, we can saw the file that contains our model. We can load the model later but size of file is 0. It is strange"
   ]
  },
  {
   "cell_type": "markdown",
   "metadata": {},
   "source": [
    "#### Question 7.4\n",
    "A saved model can be load from file by using `MatrixFactorizationModel.load(sc, <file_name>)`. \n",
    "\n",
    "Let's load our model from file."
   ]
  },
  {
   "cell_type": "code",
   "execution_count": 43,
   "metadata": {
    "collapsed": false
   },
   "outputs": [
    {
     "name": "stdout",
     "output_type": "stream",
     "text": [
      "finish loading model in 5.423198 secs\n"
     ]
    }
   ],
   "source": [
    "t0 = time()\n",
    "model = MatrixFactorizationModel.load( sc , \"lastfm_model.spark\" )\n",
    "t1 = time()\n",
    "print(\"finish loading model in %f secs\" % (t1 - t0))"
   ]
  },
  {
   "cell_type": "markdown",
   "metadata": {},
   "source": [
    "#### Question 7.5\n",
    "Print the first row of user features in our model."
   ]
  },
  {
   "cell_type": "code",
   "execution_count": 44,
   "metadata": {
    "collapsed": false
   },
   "outputs": [
    {
     "data": {
      "text/plain": [
       "(120,\n",
       " array('d', [0.028836140409111977, -0.13728128373622894, 0.23069845139980316, 0.15113097429275513, 0.19326210021972656, 0.020085133612155914, -0.2246154397726059, -0.17122872173786163, 0.051050782203674316, 0.12563957273960114]))"
      ]
     },
     "execution_count": 44,
     "metadata": {},
     "output_type": "execute_result"
    }
   ],
   "source": [
    "model.userFeatures().first()"
   ]
  },
  {
   "cell_type": "markdown",
   "metadata": {},
   "source": [
    "### Question 8\n",
    "Show the top-5 artist names recommendated for user `2093760`.\n",
    "\n",
    "HINT: The recommendations can be given by function `recommendProducts(userID, num_recommendations)`. These recommendations are only artist ids. You have to map them to artist names by using data in `artist_data.txt`."
   ]
  },
  {
   "cell_type": "code",
   "execution_count": 45,
   "metadata": {
    "collapsed": false
   },
   "outputs": [
    {
     "data": {
      "text/plain": [
       "{2814, 4605, 1001819, 1007614, 1300642}"
      ]
     },
     "execution_count": 45,
     "metadata": {},
     "output_type": "execute_result"
    }
   ],
   "source": [
    "# Make five reccommendations to user 2093760\n",
    "recommendations = (model.recommendProducts(2093760,5))\n",
    "\n",
    "# construct set of recommendated artists\n",
    "recArtist = set([row.product for row in recommendations])\n",
    "recArtist"
   ]
  },
  {
   "cell_type": "code",
   "execution_count": 46,
   "metadata": {
    "collapsed": true
   },
   "outputs": [],
   "source": [
    "# construct data of artists (artist_id, artist_name)\n",
    "\n",
    "rawArtistData = sc.textFile(base + \"artist_data.txt\")\n",
    "\n",
    "def xtractFields(s):\n",
    "    line = re.split(\"\\s|\\t\",s,1)\n",
    "    if (len(line) > 1):\n",
    "        try:\n",
    "            return (int(line[0]), str(line[1].strip()))\n",
    "        except ValueError:\n",
    "            return (-1,\"\")\n",
    "    else: \n",
    "        return (-1,\"\")\n",
    "\n",
    "artistByID = rawArtistData.map(xtractFields).filter(lambda x: x[0] > 0)"
   ]
  },
  {
   "cell_type": "code",
   "execution_count": 47,
   "metadata": {
    "collapsed": false
   },
   "outputs": [
    {
     "name": "stdout",
     "output_type": "stream",
     "text": [
      "['50 Cent', 'Snoop Dogg', 'Jay-Z', '2Pac', 'The Game']\n"
     ]
    }
   ],
   "source": [
    "# Filter in those artists, get just artist, and print\n",
    "def artistNames(line):\n",
    "#     [artistID, name]\n",
    "    if (line[0] in recArtist):\n",
    "        return True\n",
    "    else:\n",
    "        return False\n",
    "\n",
    "recList = artistByID.filter(lambda line: artistNames(line)).values().collect()\n",
    "\n",
    "print(recList)"
   ]
  },
  {
   "cell_type": "markdown",
   "metadata": {},
   "source": [
    "#### IMPORTANT NOTE\n",
    "\n",
    "At the moment, it is necessary to manually unpersist the RDDs inside the model when you are done with it. The following function can be used to make sure models are promptly uncached."
   ]
  },
  {
   "cell_type": "code",
   "execution_count": 35,
   "metadata": {
    "collapsed": false
   },
   "outputs": [],
   "source": [
    "def unpersist(model):\n",
    "    model.userFeatures().unpersist()\n",
    "    model.productFeatures().unpersist()\n",
    "\n",
    "# uncache data and model when they are no longer used  \n",
    "unpersist(model)"
   ]
  },
  {
   "cell_type": "markdown",
   "metadata": {
    "collapsed": true
   },
   "source": [
    "## 3.5 Evaluating Recommendation Quality \n",
    "\n",
    "In this section, we study how to evaluate the quality of our model. It's hard to say how good the recommendations are.\n",
    "One of serveral methods approach to evaluate  a recommender based on its ability to rank good items (artists) high in a list of recommendations. The problem is how to define \"good artists\". Currently, by training all data, \"good artists\" is defined as **'artists the user has listened to'**, and the recommender system has already received all of this information as input. It could trivially return the users **previously-listened artists as top recommendations and score perfectly**. Indeed, this is not useful, because the recommender's is used to recommend artists that the user has **never** listened to. \n",
    "\n",
    "To overcome that problem, we can **hide the some of the artist** play data and only use the rest to train model. Then, this held-out data can be interpreted as a collection of \"good\" recommendations for each user. The recommender is asked to rank all items in the model, and the rank of the held-out artists are examined. Ideally the recommender places all of them at or near the top of the list.\n",
    "\n",
    "The recommender's score can then be computed by comparing all held-out artists' ranks to the rest.  The fraction of pairs where the held-out artist is ranked higher is its score. 1.0 is perfect, 0.0 is the worst possible score, and 0.5 is the expected value achieved from randomly ranking artists. \n",
    "\n",
    "AUC(Area Under the Curve) can be used as a metric to evaluate model. It is also viewed as the probability that a randomly-chosen \"good\" artist ranks above a randomly-chosen \"bad\" artist.\n",
    "\n",
    "Next, we split the training data into 2 parts: `trainData` and `cvData` with ratio 0.9:0.1 respectively, where `trainData` is the dataset that will be used to train model. Then we write a function to calculate AUC to evaluate the quality of our model.\n"
   ]
  },
  {
   "cell_type": "markdown",
   "metadata": {},
   "source": [
    "### Question 9\n",
    "\n",
    "#### Question 9.1\n",
    "Split the data into `trainData` and `cvData` with ratio 0.9:0.1 and use the first part to train a statistic model with:\n",
    "\n",
    "- rank=10\n",
    "- iterations=5\n",
    "- lambda_=0.01\n",
    "- alpha=1.0"
   ]
  },
  {
   "cell_type": "code",
   "execution_count": 14,
   "metadata": {
    "collapsed": false
   },
   "outputs": [
    {
     "data": {
      "text/plain": [
       "PythonRDD[31] at RDD at PythonRDD.scala:48"
      ]
     },
     "execution_count": 14,
     "metadata": {},
     "output_type": "execute_result"
    }
   ],
   "source": [
    "trainData, cvData = allData.randomSplit([0.9,0.1])\n",
    "trainData.cache()\n",
    "cvData.cache()"
   ]
  },
  {
   "cell_type": "code",
   "execution_count": 15,
   "metadata": {
    "collapsed": false
   },
   "outputs": [
    {
     "name": "stdout",
     "output_type": "stream",
     "text": [
      "finish training model in 54.275469 secs\n"
     ]
    }
   ],
   "source": [
    "t0 = time()\n",
    "model = ALS.trainImplicit(trainData, rank = 10, iterations = 5, lambda_=0.01,alpha=1.0)\n",
    "t1 = time()\n",
    "print(\"finish training model in %f secs\" % (t1 - t0))\n"
   ]
  },
  {
   "cell_type": "code",
   "execution_count": null,
   "metadata": {
    "collapsed": false
   },
   "outputs": [
    {
     "name": "stdout",
     "output_type": "stream",
     "text": [
      "finish training model in 38.444400 secs\n"
     ]
    }
   ],
   "source": [
    "AUCresult = []\n",
    "for i in range(4):\n",
    "    trainData, cvData = allData.randomSplit([0.7,0.3])\n",
    "    trainData.cache()\n",
    "    cvData.cache()\n",
    "\n",
    "    t0 = time()\n",
    "    model = ALS.trainImplicit(trainData, rank = 10, iterations = 5, lambda_=0.01,alpha=1.0)\n",
    "    t1 = time()\n",
    "    print(\"finish training model in %f secs\" % (t1 - t0))\n",
    "\n",
    "    t0 = time()\n",
    "    auc = calculateAUC( cvData , bAllItemIDs, model.predictAll)\n",
    "    t1 = time()\n",
    "    if (i==0):\n",
    "        AUCresult = [auc]\n",
    "    else:\n",
    "        AUCresult.append(auc)\n",
    "    print(\"finish in %f seconds\" % (t1 - t0))"
   ]
  },
  {
   "cell_type": "code",
   "execution_count": 42,
   "metadata": {
    "collapsed": false
   },
   "outputs": [
    {
     "name": "stdout",
     "output_type": "stream",
     "text": [
      "AVERAGE AUC on old data:  0.9657732827035755\n"
     ]
    }
   ],
   "source": [
    "#AVERAGE AUC ON OLD DATA\n",
    "SumAUC = 0\n",
    "for x in AUCresult:\n",
    "    SumAUC = SumAUC+x \n",
    "print(\"AVERAGE AUC on old data: \",SumAUC/len(AUCresult))"
   ]
  },
  {
   "cell_type": "code",
   "execution_count": 44,
   "metadata": {
    "collapsed": false
   },
   "outputs": [
    {
     "name": "stdout",
     "output_type": "stream",
     "text": [
      "AVERAGE AUC on new data:  0.9657507101843364\n"
     ]
    }
   ],
   "source": [
    "#AVERAGE AUC ON OLD DATA\n",
    "SumAUC = 0\n",
    "for x in AUCresult:\n",
    "    SumAUC = SumAUC+x \n",
    "print(\"AVERAGE AUC on new data: \",SumAUC/len(AUCresult))"
   ]
  },
  {
   "cell_type": "markdown",
   "metadata": {},
   "source": [
    "<div style=\"background-color:#0080ff; vertical-align: middle; padding:5px 0px 10px 10px;\">\n",
    "    <h3><font color='white'> AGGREGATION PROBLEM </font></h3>\n",
    "</div>\n",
    "\n",
    "As we mentioned, your code don't aggregate mispelled artist. Then we rise the question \"Does it affect to our model?\". As experiment, we can see that the AUC in both case are nearly same. It is so wierd and strange as we try to explain this from point of view of model but what happens in the practice:\n",
    "\n",
    "- Even we can have many numbers of dispelled artist in a user, but playCount on that case is much smaller than playCount in standardID. It affects too lightly on the final model\n",
    "- AUC matrices cannot be used to evaluate this problem. When the problem happens, the chance that we pick an artist we less likely listen increase (more numbers of artists on each user are added) => that leads to we have more chance to get a set which is predicted by model has small value than cleaned version. In the same time, we also have more chance to choose negative set whose artist is mispelled. In the final, we can't know the ratio of positive and negative set increase or decrease. That is why the final result in both case are quite similar.\n",
    "\n",
    "To solve this problem, I think we should create another matrices to check it. Because data of mispelled artist does not affect to model, the matrices we create should add the weight based on number of records. "
   ]
  },
  {
   "cell_type": "code",
   "execution_count": 49,
   "metadata": {
    "collapsed": false,
    "scrolled": true
   },
   "outputs": [
    {
     "data": {
      "text/plain": [
       "[Row(userID=2133748, artistID=1018110, count=94),\n",
       " Row(userID=2052189, artistID=1082784, count=71),\n",
       " Row(userID=2360120, artistID=122, count=68),\n",
       " Row(userID=2302495, artistID=1000024, count=65),\n",
       " Row(userID=1053375, artistID=1001819, count=57),\n",
       " Row(userID=2214793, artistID=1000130, count=54),\n",
       " Row(userID=2181817, artistID=82, count=48),\n",
       " Row(userID=1000072, artistID=1021625, count=46),\n",
       " Row(userID=2197708, artistID=1005386, count=43),\n",
       " Row(userID=2054029, artistID=1001419, count=41)]"
      ]
     },
     "execution_count": 49,
     "metadata": {},
     "output_type": "execute_result"
    }
   ],
   "source": [
    "duplicate = newUserArtistDF.groupBy('userID', 'artistID').count().where('count > 1')\n",
    "duplicate.orderBy('count',ascending=0).take(10)"
   ]
  },
  {
   "cell_type": "code",
   "execution_count": 51,
   "metadata": {
    "collapsed": false
   },
   "outputs": [
    {
     "data": {
      "text/plain": [
       "[Row(userID=2133748, artistID=1018110, playCount=1313, MisspelledArtistID=1018110, StandardArtistID=1018110),\n",
       " Row(userID=2133748, artistID=9898721, playCount=75, MisspelledArtistID=9898721, StandardArtistID=1018110),\n",
       " Row(userID=2133748, artistID=9940284, playCount=16, MisspelledArtistID=9940284, StandardArtistID=1018110),\n",
       " Row(userID=2133748, artistID=9955282, playCount=15, MisspelledArtistID=9955282, StandardArtistID=1018110),\n",
       " Row(userID=2133748, artistID=7035006, playCount=14, MisspelledArtistID=7035006, StandardArtistID=1018110),\n",
       " Row(userID=2133748, artistID=9962868, playCount=14, MisspelledArtistID=9962868, StandardArtistID=1018110),\n",
       " Row(userID=2133748, artistID=9898396, playCount=14, MisspelledArtistID=9898396, StandardArtistID=1018110),\n",
       " Row(userID=2133748, artistID=9933344, playCount=14, MisspelledArtistID=9933344, StandardArtistID=1018110),\n",
       " Row(userID=2133748, artistID=9914032, playCount=13, MisspelledArtistID=9914032, StandardArtistID=1018110),\n",
       " Row(userID=2133748, artistID=9933995, playCount=13, MisspelledArtistID=9933995, StandardArtistID=1018110)]"
      ]
     },
     "execution_count": 51,
     "metadata": {},
     "output_type": "execute_result"
    }
   ],
   "source": [
    "joinAliasUserArtist = userArtistDF.join(artistAliasDF,col(\"artistID\") == col(\"MisspelledArtistID\"),'inner')\n",
    "joinAliasUserArtist.filter(\"userID == 2133748 and StandardArtistID==1018110\").orderBy('playCount',ascending=0).take(10)"
   ]
  },
  {
   "cell_type": "markdown",
   "metadata": {},
   "source": [
    "<div style=\"background-color:rgba(249, 67, 6, 0.8); vertical-align: middle; padding:5px 0px 10px 10px;\">\n",
    "    <h3><font color='white'> COMMENT</font></h3>\n",
    "</div>\n",
    "\n",
    "In here, we test our statement \"playCount on mispelled case is much smaller than playCount in standardID\". First we list all user have duplication and sort it by number of duplications. We test on the userId-standardArtistID have the most duplication (userID=2133748, artistID=1018110). \n",
    "\n",
    "We see that standardArtistID=1018110 have much higher \"playCount\" than other mispelled artistID. ( 1313 playCount compares with other mispelledArist playcount on that user)"
   ]
  },
  {
   "cell_type": "markdown",
   "metadata": {},
   "source": [
    "\n",
    "#### Area under the ROC curve: a function to compute it"
   ]
  },
  {
   "cell_type": "code",
   "execution_count": 100,
   "metadata": {
    "collapsed": false
   },
   "outputs": [],
   "source": [
    "# Get all unique artistId, and broadcast them\n",
    "allItemIDs = np.array(allData.map(lambda x: x[1]).distinct().collect())\n",
    "bAllItemIDs = sc.broadcast(allItemIDs)"
   ]
  },
  {
   "cell_type": "code",
   "execution_count": 99,
   "metadata": {
    "collapsed": false
   },
   "outputs": [],
   "source": [
    "from random import randint\n",
    "\n",
    "# Depend on the number of item in userIDAndPosItemIDs,\n",
    "# create a set of \"negative\" products for each user. These are randomly chosen\n",
    "# from among all of the other items, excluding those that are \"positive\" for the user.\n",
    "# NOTE 1: mapPartitions operates on many (user,positive-items) pairs at once\n",
    "# NOTE 2: flatMap breaks the collections above down into one big set of tuples\n",
    "def xtractNegative(userIDAndPosItemIDs):\n",
    "    def pickEnoughNegatives(line):\n",
    "        userID = line[0]\n",
    "        posItemIDSet = set(line[1])\n",
    "        #posItemIDSet = line[1]\n",
    "        negative = []\n",
    "        allItemIDs = bAllItemIDs.value\n",
    "        # Keep about as many negative examples per user as positive. Duplicates are OK.\n",
    "        i = 0\n",
    "        while (i < len(allItemIDs) and len(negative) < len(posItemIDSet)):\n",
    "            itemID = allItemIDs[randint(0,len(allItemIDs)-1)]\n",
    "            if itemID not in posItemIDSet:\n",
    "                negative.append(itemID)\n",
    "            i += 1\n",
    "        \n",
    "        # Result is a collection of (user,negative-item) tuples\n",
    "        return map(lambda itemID: (userID, itemID), negative)\n",
    "\n",
    "    # Init an RNG and the item IDs set once for partition\n",
    "    # allItemIDs = bAllItemIDs.value\n",
    "    return map(pickEnoughNegatives, userIDAndPosItemIDs)\n",
    "\n",
    "def ratioOfCorrectRanks(positiveRatings, negativeRatings):\n",
    "    \n",
    "    # find number elements in arr that has index >= start and has value smaller than x\n",
    "    # arr is a sorted array\n",
    "    def findNumElementsSmallerThan(arr, x, start=0):\n",
    "        left = start\n",
    "        right = len(arr) -1\n",
    "        # if x is bigger than the biggest element in arr\n",
    "        if start > right or x > arr[right]:\n",
    "            return right + 1\n",
    "        mid = -1\n",
    "        while left <= right:\n",
    "            mid = (left + right) // 2\n",
    "            if arr[mid] < x:\n",
    "                left = mid + 1\n",
    "            elif arr[mid] > x:\n",
    "                right = mid - 1\n",
    "            else:\n",
    "                while mid-1 >= start and arr[mid-1] == x:\n",
    "                    mid -= 1\n",
    "                return mid\n",
    "        return mid if arr[mid] > x else mid + 1\n",
    "    \n",
    "    ## AUC may be viewed as the probability that a random positive item scores\n",
    "    ## higher than a random negative one. Here the proportion of all positive-negative\n",
    "    ## pairs that are correctly ranked is computed. The result is equal to the AUC metric.\n",
    "    correct = 0 ## L\n",
    "    total = 0 ## L\n",
    "    \n",
    "    # sorting positiveRatings array needs more cost\n",
    "    #positiveRatings = np.array(map(lambda x: x.rating, positiveRatings))\n",
    "\n",
    "    negativeRatings = list(map(lambda x:x.rating, negativeRatings))\n",
    "    \n",
    "    #np.sort(positiveRatings)\n",
    "    negativeRatings.sort()# = np.sort(negativeRatings)\n",
    "    total = len(positiveRatings)*len(negativeRatings)\n",
    "    \n",
    "    for positive in positiveRatings:\n",
    "        # Count the correctly-ranked pairs\n",
    "        correct += findNumElementsSmallerThan(negativeRatings, positive.rating)\n",
    "        \n",
    "    ## Return AUC: fraction of pairs ranked correctly\n",
    "    return float(correct) / total\n",
    "\n",
    "def calculateAUC(positiveData, bAllItemIDs, predictFunction):\n",
    "    # Take held-out data as the \"positive\", and map to tuples\n",
    "    positiveUserProducts = positiveData.map(lambda r: (r[0], r[1]))\n",
    "    # Make predictions for each of them, including a numeric score, and gather by user\n",
    "    positivePredictions = predictFunction(positiveUserProducts).groupBy(lambda r: r.user)\n",
    "    \n",
    "    # Create a set of \"negative\" products for each user. These are randomly chosen \n",
    "    # from among all of the other items, excluding those that are \"positive\" for the user. \n",
    "    negativeUserProducts = positiveUserProducts.groupByKey().mapPartitions(xtractNegative).flatMap(lambda x: x)\n",
    "    # Make predictions on the rest\n",
    "    negativePredictions = predictFunction(negativeUserProducts).groupBy(lambda r: r.user)\n",
    "    \n",
    "    return (\n",
    "            positivePredictions.join(negativePredictions)\n",
    "                .values()\n",
    "                .map(\n",
    "                    lambda positive_negativeRatings: ratioOfCorrectRanks(positive_negativeRatings[0], positive_negativeRatings[1])\n",
    "                )\n",
    "                .mean()\n",
    "            )"
   ]
  },
  {
   "cell_type": "markdown",
   "metadata": {},
   "source": [
    "####  Question 9.2\n",
    "Using part `cvData` and function `calculateAUC` to compute the AUC of the trained model."
   ]
  },
  {
   "cell_type": "code",
   "execution_count": 21,
   "metadata": {
    "collapsed": false
   },
   "outputs": [
    {
     "name": "stdout",
     "output_type": "stream",
     "text": [
      "auc= 0.9645278857625454\n",
      "finish in 20.776567 seconds\n"
     ]
    }
   ],
   "source": [
    "t0 = time()\n",
    "auc = calculateAUC( cvData , bAllItemIDs, model.predictAll)\n",
    "t1 = time()\n",
    "print(\"auc=\",auc)\n",
    "print(\"finish in %f seconds\" % (t1 - t0))"
   ]
  },
  {
   "cell_type": "code",
   "execution_count": 22,
   "metadata": {
    "collapsed": false
   },
   "outputs": [
    {
     "data": {
      "text/plain": [
       "[Rating(user=2279344, product=7000152, rating=0.004362642336846933),\n",
       " Rating(user=2016146, product=6802728, rating=0.015762218928321428),\n",
       " Rating(user=1054933, product=1105344, rating=0.0012385491837066658),\n",
       " Rating(user=2069308, product=6951696, rating=0.0037841006784453384),\n",
       " Rating(user=2016740, product=9982932, rating=-3.0003789448827087e-05),\n",
       " Rating(user=2049763, product=9982932, rating=0.00029231083321152),\n",
       " Rating(user=2357140, product=10159884, rating=0.0005299406667792909),\n",
       " Rating(user=2309200, product=10693284, rating=0.0006600385165186184),\n",
       " Rating(user=2050568, product=6811740, rating=0.0006541314471105405),\n",
       " Rating(user=2015932, product=6690120, rating=0.004036652375381769)]"
      ]
     },
     "execution_count": 22,
     "metadata": {},
     "output_type": "execute_result"
    }
   ],
   "source": [
    "a = cvData.map(lambda r: (r[0], r[1]))\n",
    "\n",
    "b = model.predictAll(a)\n",
    "b.take(10)"
   ]
  },
  {
   "cell_type": "markdown",
   "metadata": {},
   "source": [
    "#### Question 9.3\n",
    "Now we have the UAC of our model, it’s helpful to benchmark this against a simpler approach. For example, consider recommending the globally most-played artists to every user. This is not personalized, but is simple and may be effective. \n",
    "\n",
    "Implement this simple pupolarity-based prediction algorithm, evaluate its AUC score, and compare to the results achieved by the more sophisticated ALS algorithm."
   ]
  },
  {
   "cell_type": "code",
   "execution_count": 32,
   "metadata": {
    "collapsed": true
   },
   "outputs": [],
   "source": [
    "bListenCount = sc.broadcast(trainData.map(lambda r: (r[1], r[2])).reduceByKey(lambda x,y: x+y).collectAsMap())\n",
    "def predictMostListened(allData):\n",
    "    return allData.map(lambda r: Rating(r[0], r[1], bListenCount.value.get(r[1], 0.0)))"
   ]
  },
  {
   "cell_type": "code",
   "execution_count": 15,
   "metadata": {
    "collapsed": false
   },
   "outputs": [
    {
     "name": "stdout",
     "output_type": "stream",
     "text": [
      "0.9372336621679808\n"
     ]
    }
   ],
   "source": [
    "auc = calculateAUC(cvData , bAllItemIDs, predictMostListened)\n",
    "print(auc)"
   ]
  },
  {
   "cell_type": "markdown",
   "metadata": {},
   "source": [
    "<div style=\"background-color:rgba(249, 67, 6, 0.8); vertical-align: middle; padding:5px 0px 10px 10px;\">\n",
    "    <h3><font color='white'> ANSWER </font></h3>\n",
    "</div>\n",
    "\n",
    "There are not much difference between the results of the simple algorithm and ALS. It can be some most famous artists dominate the playcount."
   ]
  },
  {
   "cell_type": "markdown",
   "metadata": {
    "collapsed": true
   },
   "source": [
    "## 3.6 Personalized recommendations with ALS\n",
    "\n",
    "In the previous section, we build our models with some given paramters without any knowledge about them. Actually, choosing the best parameters' values is very important. It can significantly affect the quality of models. Especially, with the current implementation of ALS in MLLIB, these parameters are not learned by the algorithm, and must be chosen by the caller. The following parameters should get consideration before training models:\n",
    "\n",
    "* `rank = 10`: the number of latent factors in the model, or equivalently, the number of columns $k$ in the user-feature and product-feature matrices. In non-trivial cases, this is also their rank. \n",
    "\n",
    "* `iterations = 5`: the number of iterations that the factorization runs. Instead of runing the algorithm until RMSE converged which actually takes very long time to finish with large datasets, we only let it run in a given number of iterations. More iterations take more time but may produce a better factorization.\n",
    "\n",
    "* `lambda_ = 0.01`: a standard overfitting parameter. Higher values resist overfitting, but values that are too high hurt the factorization's accuracy.\n",
    "\n",
    "*  `alpha = 1.0`: controls the relative weight of observed versus unobserved userproduct interactions in the factorization. \n",
    "\n",
    "Although all of them have impact on the models' quality, `iterations` is more of a constraint on resources used in the factorization. So, `rank`, `lambda_` and `alpha` can be considered hyperparameters to the model. \n",
    "We will try to find \"good\" values for them. Indeed, the values of hyperparameter are not necessarily optimal. Choosing good hyperparameter values is a common problem in machine learning. The most basic way to choose values is to simply try combinations of values and evaluate a metric for each of them, and choose the combination that produces the best value of the metric. \n"
   ]
  },
  {
   "cell_type": "markdown",
   "metadata": {
    "collapsed": true
   },
   "source": [
    "### Question 10\n",
    "\n",
    "#### Question 10.1\n",
    "For simplicity, assume that we want to explore the following parameter space: $ rank \\in \\{10, 50\\}$, $lambda\\_ \\in \\{1.0, 0.0001\\}$ and $alpha \\in \\{1.0, 40.0\\}$.\n",
    "\n",
    "Find the best combination of them in terms of the highest AUC value."
   ]
  },
  {
   "cell_type": "code",
   "execution_count": 36,
   "metadata": {
    "collapsed": false
   },
   "outputs": [
    {
     "name": "stdout",
     "output_type": "stream",
     "text": [
      "Train model with rank=10 lambda_=1.000000 alpha=1.000000\n",
      "Train model with rank=10 lambda_=1.000000 alpha=40.000000\n",
      "Train model with rank=10 lambda_=0.000100 alpha=1.000000\n",
      "Train model with rank=10 lambda_=0.000100 alpha=40.000000\n",
      "Train model with rank=50 lambda_=1.000000 alpha=1.000000\n",
      "Train model with rank=50 lambda_=1.000000 alpha=40.000000\n",
      "Train model with rank=50 lambda_=0.000100 alpha=1.000000\n",
      "Train model with rank=50 lambda_=0.000100 alpha=40.000000\n"
     ]
    }
   ],
   "source": [
    "evaluations = []\n",
    "\n",
    "for rank in [10, 50]:\n",
    "    for lambda_ in [1.0, 0.0001]:\n",
    "        for alpha in [1.0, 40.0]:\n",
    "            print(\"Train model with rank=%d lambda_=%f alpha=%f\" % (rank, lambda_, alpha))\n",
    "            # with each combination of params, we should run multiple times and get avg\n",
    "            # for simple, we only run one time.\n",
    "            model = ALS.trainImplicit( trainData, rank = 10, iterations = 5, lambda_=lambda_,alpha=alpha)\n",
    "            _\n",
    "            auc = calculateAUC(cvData , bAllItemIDs, model.predictAll)\n",
    "            \n",
    "            evaluations.append(((rank, lambda_, alpha), auc))\n",
    "            \n",
    "            unpersist(model)\n",
    "\n"
   ]
  },
  {
   "cell_type": "code",
   "execution_count": 37,
   "metadata": {
    "collapsed": false
   },
   "outputs": [
    {
     "name": "stdout",
     "output_type": "stream",
     "text": [
      "                    0         1\n",
      "0     (10, 1.0, 40.0)  0.978610\n",
      "1  (10, 0.0001, 40.0)  0.977207\n",
      "2     (50, 1.0, 40.0)  0.976356\n",
      "3  (50, 0.0001, 40.0)  0.976033\n",
      "4      (10, 1.0, 1.0)  0.971210\n",
      "5      (50, 1.0, 1.0)  0.970226\n",
      "6   (10, 0.0001, 1.0)  0.965129\n",
      "7   (50, 0.0001, 1.0)  0.965083\n"
     ]
    },
    {
     "data": {
      "text/plain": [
       "PythonRDD[161] at RDD at PythonRDD.scala:48"
      ]
     },
     "execution_count": 37,
     "metadata": {},
     "output_type": "execute_result"
    }
   ],
   "source": [
    "evaluations.sort(key = lambda x:-x[1])\n",
    "                 \n",
    "evalDataFrame = pd.DataFrame(data=evaluations)\n",
    "print(evalDataFrame)\n",
    "\n",
    "trainData.unpersist()\n",
    "cvData.unpersist()"
   ]
  },
  {
   "cell_type": "markdown",
   "metadata": {},
   "source": [
    "<div style=\"background-color:#0080ff; vertical-align: middle; padding:5px 0px 10px 10px;\">\n",
    "    <h3><font color='white'> CROSS-VALIDATION </font></h3>\n",
    "</div>\n",
    "We have another way for optimation of the model : cross-validation. Using this method, we can split Alldata into 10 folds. Each time we choose 9 folds for training the model, as well as use the left one fold for evaluation. Try 8 kinds of parameter groups(rank in {10, 50}, lambda in {1.0, 0.0001} and alpha in {1.0, 40.0}(taking larger range of  parameters into account is better, but the caculation is expensive,so we only choose these 8 groups), and use the best parameters according to the AUC score. After 10*8 times modeling, we will average the best parameters for each time and use the average for building a more accurate model.\n",
    "\n",
    "But we have already built the models using different training data for a lot of times. And we found that rank = 10, iterations = 5, lambda_=0.01,alpha=1.0 are always the best parameters. It means that even we use cross-validation, each time we still get the same optimal parameters.By averaging, the optimal paremeter remain the same. So there is no need to do this. By the way, it takes 10 times' modeling so the calculation costs a lot.\n",
    "\n",
    "Cross-validation is a good way for optimizatin but in this case it is not that useful.\n",
    "\n"
   ]
  },
  {
   "cell_type": "markdown",
   "metadata": {
    "collapsed": true
   },
   "source": [
    "#### Question 10.2 \n",
    "\n",
    "Using \"optimal\" hyper-parameters in question 10.1, re-train the model and show top-5 artist names recommendated for user 2093760."
   ]
  },
  {
   "cell_type": "code",
   "execution_count": 48,
   "metadata": {
    "collapsed": false
   },
   "outputs": [
    {
     "data": {
      "text/plain": [
       "MapPartitionsRDD[158] at coalesce at NativeMethodAccessorImpl.java:0"
      ]
     },
     "execution_count": 48,
     "metadata": {},
     "output_type": "execute_result"
    }
   ],
   "source": [
    "model = ALS.trainImplicit( trainData, rank = 10, iterations = 5, lambda_=evaluations[0][0][1],alpha=evaluations[0][0][2])\n",
    "allData.unpersist()"
   ]
  },
  {
   "cell_type": "code",
   "execution_count": 49,
   "metadata": {
    "collapsed": false
   },
   "outputs": [
    {
     "name": "stdout",
     "output_type": "stream",
     "text": [
      "['50 Cent', '[unknown]', 'Eminem', 'Green Day', 'blink-182']\n"
     ]
    }
   ],
   "source": [
    "userID = 2093760\n",
    "recommendations = model.recommendProducts(userID,5)\n",
    "\n",
    "recommendedProductIDs = set([row.product for row in recommendations])\n",
    "\n",
    "recList = artistByID.filter(lambda line: line[0] in recommendedProductIDs).values().collect()\n",
    "print(recList)\n",
    "\n",
    "unpersist(model)"
   ]
  },
  {
   "cell_type": "markdown",
   "metadata": {},
   "source": [
    "<div style=\"background-color:rgba(249, 67, 6, 0.8); vertical-align: middle; padding:5px 0px 10px 10px;\">\n",
    "    <h3><font color='white'> ANSWER </font></h3>\n",
    "</div>\n",
    "\n",
    "After many time running, we saw that the best parameter not change by each time. (alpha=40, lambda=1, rank=10). The maximum AUC is 97.8%, which is better than default parameters. From the list of artist we recommend for 2093760, we notice that user like metal music. "
   ]
  },
  {
   "cell_type": "markdown",
   "metadata": {},
   "source": [
    "<div style=\"background-color:#0080ff; vertical-align: middle; padding:5px 0px 10px 10px;\">\n",
    "    <h3><font color='white'> UNKNOWN ARTIST PROBLEM </font></h3>\n",
    "</div>\n",
    "\n",
    "The artist [unknown] is useless recommendation for the users.[unknown] is some default value for plays without an artist,maybe supplied by a certain scrobbling client. But it shows up a lot of times. So we should remove the information about unknown artists from the database before we do the recommendation for the users.\n",
    "\n",
    "There are two ways to solve the problem. The first solution is that we should do something in the recommendProducts function. When there is [unknown] showing up in the recommendation list, we remove the [unknown], and take another artist as the recommendation. But it is cubersome to change the function.\n",
    "\n",
    "The second solution is to change the data. We should discard the useless information from the input. We filter the data before we use the data to train the model. In the user-artist-count database, we only know the id of artist. So we have to check the id of [unknown].\n"
   ]
  },
  {
   "cell_type": "code",
   "execution_count": 50,
   "metadata": {
    "collapsed": false
   },
   "outputs": [
    {
     "name": "stdout",
     "output_type": "stream",
     "text": [
      "[(1034635, '[unknown]')]\n"
     ]
    }
   ],
   "source": [
    "#FIND UNKNOWN ID \n",
    "unknown = artistByID.filter(lambda line: '[unknown]' in line).take(10)\n",
    "print(unknown)"
   ]
  },
  {
   "cell_type": "code",
   "execution_count": 51,
   "metadata": {
    "collapsed": false
   },
   "outputs": [
    {
     "name": "stdout",
     "output_type": "stream",
     "text": [
      "['50 Cent', 'Eminem', 'Linkin Park', 'Green Day', 'blink-182']\n"
     ]
    }
   ],
   "source": [
    "model = ALS.trainImplicit( trainData.filter(lambda line:line[1] != 1034635), rank = 10, iterations = 5, lambda_=evaluations[0][0][1],alpha=evaluations[0][0][2])\n",
    "allData.unpersist()\n",
    "userID = 2093760\n",
    "recommendations = model.recommendProducts(userID,5)\n",
    "\n",
    "recommendedProductIDs = set([row.product for row in recommendations])\n",
    "\n",
    "recList = artistByID.filter(lambda line: line[0] in recommendedProductIDs).values().collect()\n",
    "print(recList)"
   ]
  },
  {
   "cell_type": "markdown",
   "metadata": {},
   "source": [
    "<div style=\"background-color:rgba(249, 67, 6, 0.8); vertical-align: middle; padding:5px 0px 10px 10px;\">\n",
    "    <h3><font color='white'> COMMENT</font></h3>\n",
    "</div>\n",
    "We filter the trainData and remove the [unknown]. And we get the new recommendation list for user 2093760.\n",
    "\n",
    "By analysing the results above.We find the fact that each time we run the recommendation function, we get different recommendation result. With this imrpovement, we can recommend artists for some user better because \"unknown\" artist is not in result\n",
    "\n",
    "There are two reasons: \n",
    "- (main reason) we have a lot of artists which have the same score, and each time we just randomly choose five for the user 2093760. \n",
    "\n",
    "- Each time we randomly split the data into trainData and cvData.ALS algorithm itself also has some approximation inside."
   ]
  },
  {
   "cell_type": "code",
   "execution_count": 53,
   "metadata": {
    "collapsed": false
   },
   "outputs": [],
   "source": [
    "listOfUser = [line[0] for line in allData.collect()]\n",
    "listOfUserSmall = random.sample(listOfUser, 1000) "
   ]
  },
  {
   "cell_type": "code",
   "execution_count": 58,
   "metadata": {
    "collapsed": false
   },
   "outputs": [],
   "source": [
    "model = ALS.trainImplicit( trainData, rank = 10, iterations = 5, lambda_=evaluations[0][0][1],alpha=evaluations[0][0][2])"
   ]
  },
  {
   "cell_type": "code",
   "execution_count": 63,
   "metadata": {
    "collapsed": false
   },
   "outputs": [
    {
     "name": "stdout",
     "output_type": "stream",
     "text": [
      "Total users are recommended to [unknown] artist over 100 random users:  33\n"
     ]
    }
   ],
   "source": [
    "\n",
    "def recforUser(USERID):\n",
    "    userID = USERID\n",
    "    \n",
    "    recommendations = model.recommendProducts(userID,20)\n",
    "    \n",
    "    recommendedProductIDs = set([row.product for row in recommendations])\n",
    "    recList = artistByID.filter(lambda line: line[0] in recommendedProductIDs).values().collect()\n",
    "    \n",
    "    return recList\n",
    "\n",
    "sum = 0 \n",
    "for i in range(100):\n",
    "    #print(recforUser(listOfUserSmall[i]))\n",
    "    if '[unknown]' in recforUser(listOfUserSmall[i]):\n",
    "        sum +=1\n",
    "print(\"Total users are recommended to [unknown] artist over 100 random users: \", sum)"
   ]
  },
  {
   "cell_type": "code",
   "execution_count": 81,
   "metadata": {
    "collapsed": false
   },
   "outputs": [
    {
     "name": "stdout",
     "output_type": "stream",
     "text": [
      "['Lagwagon', 'Tenacious D', 'NOFX', '[unknown]', 'Anti-Flag', 'Rancid', 'Sum 41', 'The Offspring', 'AFI', 'AC/DC', 'Dropkick Murphys', 'Ramones', \"Guns N' Roses\", 'Bad Religion', 'Flogging Molly', 'Me First and the Gimme Gimmes', 'Millencolin', 'Green Day', 'Reel Big Fish', 'Cold']\n",
      "['[unknown]', 'HiM', 'Howard Shore', 'The Prodigy', 'the pillows', 'Queen', 'Kent', 'System of a Down', \"Guns N' Roses\", 'Garbage', 'Eminem', 'Evanescence', 'Avril Lavigne', 'U2', 'Britney Spears', 'Rammstein', 'Marilyn Manson', 'Linkin Park', 'Various Artists', 'Gwen Stefani']\n",
      "['POLYSICS', 'Kraftwerk', 'Sugar', '[unknown]', 'Guided by Voices', 'Jaga Jazzist', 'Squarepusher', 'múm', 'Stereolab', 'Aphex Twin', 'Boards of Canada', 'Four Tet', 'Autechre', 'CORNELIUS', 'Amon Tobin', 'Prefuse 73', 'Brian Eno', 'Various Artists', 'X', 'Final Fantasy']\n",
      "['[unknown]', 'Lemon Jelly', 'Zero 7', 'The Chemical Brothers', 'Fatboy Slim', 'Basement Jaxx', 'Stevie Wonder', 'Prince', 'Thievery Corporation', 'Groove Armada', 'Moloko', 'Massive Attack', 'Jamiroquai', 'St. Germain', 'Morcheeba', 'Moby', 'Air', 'Miles Davis', 'Underworld', 'Various Artists']\n",
      "['植松伸夫', \"Martin O'Donnell & Michael Salvatori\", '光田康典', '[unknown]', 'Akira Yamaoka', 'Howard Shore', 'Hans Zimmer', 'Maroon 5', 'Antonio Vivaldi', 'Michael Jackson', 'Bryan Adams', 'Alanis Morissette', 'Enya', 'Various Artists', '任天堂', 'Danny Elfman', 'Soundtrack', '菅野よう子', 'John Williams', '\"Weird Al\" Yankovic']\n",
      "['50 Cent', 'Nelly Furtado', 'Snoop Dogg', 'Usher', 'Alicia Keys', '[unknown]', 'Black Eyed Peas', 'Maroon 5', 'Kylie Minogue', 'Norah Jones', 'Michael Jackson', 'Bob Marley', 'Elvis Presley', '2Pac', 'Stevie Wonder', 'Madonna', 'Eminem', 'Ray Charles', 'Outkast', 'Various Artists']\n"
     ]
    }
   ],
   "source": [
    "for i in range(20):\n",
    "    recLists = recforUser(listOfUserSmall[i])\n",
    "    if '[unknown]' in recLists:\n",
    "        print(recLists)"
   ]
  },
  {
   "cell_type": "markdown",
   "metadata": {},
   "source": [
    "<div style=\"background-color:rgba(249, 67, 6, 0.8); vertical-align: middle; padding:5px 0px 10px 10px;\">\n",
    "    <h3><font color='white'> COMMENT</font></h3>\n",
    "</div>\n",
    "There 33 users are recommended to \"unknown\" artist over 100 random users in database. It is quite high that we recommend useless thing to user. The idea we think of is \"unknown\" is listened by lots of user (top 5 of the most popular artist) so it easy to recommend it to other users. Another evidence can strengten our assumption is many variaties of kind of users (each user belongs to some genre of musics) listen to \"unknown\" artist. That is why we can see \"unknown\" is in recommend list of users that are not related to each other."
   ]
  },
  {
   "cell_type": "markdown",
   "metadata": {},
   "source": [
    "<div style=\"background-color:#0080ff; vertical-align: middle; padding:5px 0px 10px 10px;\">\n",
    "    <h1><font color='white'> REMOVE THE OULINER </font></h1>\n",
    "</div>\n",
    "\n",
    "As we analysize above, users who listen too many or too few in system may be not helpful to predict and we call that outliner. 10% users in system listen less than 34 times and 0.1% users in system listen more than 50.000. We try to remove all users that listens less than 20 times or more than 80.000 times. And start testing the model"
   ]
  },
  {
   "cell_type": "code",
   "execution_count": 68,
   "metadata": {
    "collapsed": false
   },
   "outputs": [],
   "source": [
    "removeOutLinerUser = newUserArtistDF.filter(\"playCount>20\").filter(\"playCount<80000\").select('userID').distinct().rdd.cache()"
   ]
  },
  {
   "cell_type": "markdown",
   "metadata": {},
   "source": [
    "##### FILTER STEP"
   ]
  },
  {
   "cell_type": "code",
   "execution_count": 90,
   "metadata": {
    "collapsed": false
   },
   "outputs": [],
   "source": [
    "joinwithOutLiner = userArtistDataRDD.map(lambda x: (int(x[0]),(x[1],x[2]))).join(removeOutLinerUser.map(lambda x: (x[0],1) ))"
   ]
  },
  {
   "cell_type": "code",
   "execution_count": 94,
   "metadata": {
    "collapsed": false
   },
   "outputs": [
    {
     "data": {
      "text/plain": [
       "[(2402304, ((1000200, 4), 1)),\n",
       " (2402304, ((1000280, 1), 1)),\n",
       " (2402304, ((1000283, 1), 1)),\n",
       " (2402304, ((1000737, 4), 1)),\n",
       " (2402304, ((1002457, 1), 1)),\n",
       " (2402304, ((1002470, 1), 1)),\n",
       " (2402304, ((1002504, 1), 1)),\n",
       " (2402304, ((1002559, 1), 1)),\n",
       " (2402304, ((1003211, 2), 1)),\n",
       " (2402304, ((1003222, 7), 1))]"
      ]
     },
     "execution_count": 94,
     "metadata": {},
     "output_type": "execute_result"
    }
   ],
   "source": [
    "joinwithOutLiner.take(10)"
   ]
  },
  {
   "cell_type": "code",
   "execution_count": 95,
   "metadata": {
    "collapsed": false
   },
   "outputs": [
    {
     "data": {
      "text/plain": [
       "[Rating(user=2402305, product=1005290, rating=1.0),\n",
       " Rating(user=2402305, product=1006112, rating=1.0),\n",
       " Rating(user=2402305, product=1006160, rating=3.0)]"
      ]
     },
     "execution_count": 95,
     "metadata": {},
     "output_type": "execute_result"
    }
   ],
   "source": [
    "allData = joinwithOutLiner.map(lambda r: Rating(r[0], r[1][0][0], r[1][0][1])).repartition(10).cache()\n",
    "allData.take(3)"
   ]
  },
  {
   "cell_type": "markdown",
   "metadata": {},
   "source": [
    "##### SPLIT DATA "
   ]
  },
  {
   "cell_type": "code",
   "execution_count": 96,
   "metadata": {
    "collapsed": false
   },
   "outputs": [
    {
     "data": {
      "text/plain": [
       "PythonRDD[205] at RDD at PythonRDD.scala:48"
      ]
     },
     "execution_count": 96,
     "metadata": {},
     "output_type": "execute_result"
    }
   ],
   "source": [
    "trainData, cvData = allData.randomSplit([0.9,0.1])\n",
    "trainData.cache()\n",
    "cvData.cache()"
   ]
  },
  {
   "cell_type": "markdown",
   "metadata": {},
   "source": [
    "##### TRAINING"
   ]
  },
  {
   "cell_type": "code",
   "execution_count": 97,
   "metadata": {
    "collapsed": false
   },
   "outputs": [
    {
     "name": "stdout",
     "output_type": "stream",
     "text": [
      "finish training model in 54.367222 secs\n"
     ]
    }
   ],
   "source": [
    "t0 = time()\n",
    "model = ALS.trainImplicit(trainData, rank = 10, iterations = 5, lambda_=1.0,alpha=40.0)\n",
    "t1 = time()\n",
    "print(\"finish training model in %f secs\" % (t1 - t0))"
   ]
  },
  {
   "cell_type": "markdown",
   "metadata": {},
   "source": [
    "##### TESTING"
   ]
  },
  {
   "cell_type": "code",
   "execution_count": 101,
   "metadata": {
    "collapsed": false
   },
   "outputs": [
    {
     "name": "stdout",
     "output_type": "stream",
     "text": [
      "auc= 0.9778584877741262\n",
      "finish in 31.179254 seconds\n"
     ]
    }
   ],
   "source": [
    "t0 = time()\n",
    "auc = calculateAUC( cvData , bAllItemIDs, model.predictAll)\n",
    "t1 = time()\n",
    "print(\"auc=\",auc)\n",
    "print(\"finish in %f seconds\" % (t1 - t0))"
   ]
  },
  {
   "cell_type": "markdown",
   "metadata": {},
   "source": [
    "<div style=\"background-color:rgba(249, 67, 6, 0.8); vertical-align: middle; padding:5px 0px 10px 10px;\">\n",
    "    <h3><font color='white'> COMMENT</font></h3>\n",
    "</div>\n",
    " \n",
    "The AUC after removing outliner doesn't change but our training time decrease after we remove outliners. Regarding to the ALS algorithm which we use to build our reccomendation system, we only use the main features of the data metric. Maybe these outliners won't change the choose of main features since they are small compared with the whole data. So the AUC score of the new system doesn't change."
   ]
  },
  {
   "cell_type": "markdown",
   "metadata": {},
   "source": [
    "# Summary\n",
    "\n",
    "In this notebook, we introduce an algorithm to do matrix factorization and the way of using it to make recommendation. Further more, we studied how to build a large-scale recommender system on SPARK using ALS algorithm and evaluate its quality. Finally, a simple approach to choose good parameters is mentioned."
   ]
  },
  {
   "cell_type": "markdown",
   "metadata": {
    "collapsed": true
   },
   "source": [
    "# References\n",
    "\n",
    "- The example in section 2 is taken from [Recommender system](infolab.stanford.edu/~ullman/mmds/ch9.pdf)"
   ]
  }
 ],
 "metadata": {
  "kernelspec": {
   "display_name": "Python 3",
   "language": "python",
   "name": "python3"
  },
  "language_info": {
   "codemirror_mode": {
    "name": "ipython",
    "version": 3
   },
   "file_extension": ".py",
   "mimetype": "text/x-python",
   "name": "python",
   "nbconvert_exporter": "python",
   "pygments_lexer": "ipython3",
   "version": "3.5.2"
  }
 },
 "nbformat": 4,
 "nbformat_minor": 0
}
